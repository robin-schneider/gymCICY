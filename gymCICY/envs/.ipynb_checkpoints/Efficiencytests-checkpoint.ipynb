{
 "cells": [
  {
   "cell_type": "code",
   "execution_count": 2,
   "metadata": {},
   "outputs": [],
   "source": [
    "import numpy as np\n",
    "from pyCICY import CICY\n",
    "import sympy as sp\n",
    "import time"
   ]
  },
  {
   "cell_type": "markdown",
   "metadata": {},
   "source": [
    "## Three elements vs Array multiplication\n",
    "\n",
    "changing a single element vs just multiplying an array three times"
   ]
  },
  {
   "cell_type": "code",
   "execution_count": 7,
   "metadata": {},
   "outputs": [],
   "source": [
    "V = np.random.randint(-2,3,(5,7))"
   ]
  },
  {
   "cell_type": "code",
   "execution_count": 8,
   "metadata": {},
   "outputs": [],
   "source": [
    "make_obs = lambda x: np.array([x**(i+1) for i in range(3)])"
   ]
  },
  {
   "cell_type": "code",
   "execution_count": 11,
   "metadata": {},
   "outputs": [],
   "source": [
    "def single(obs, line, charge, value):\n",
    "    for i in range(3):\n",
    "        obs[line][charge][i] = value**(i+1)"
   ]
  },
  {
   "cell_type": "code",
   "execution_count": 13,
   "metadata": {},
   "outputs": [],
   "source": [
    "obs = np.random.randint(-2,3,(5,7,3))"
   ]
  },
  {
   "cell_type": "code",
   "execution_count": 23,
   "metadata": {},
   "outputs": [
    {
     "name": "stdout",
     "output_type": "stream",
     "text": [
      "0.2875816822052002\n"
     ]
    }
   ],
   "source": [
    "start = time.time()\n",
    "for _ in range(100000):\n",
    "    line = np.random.randint(0,4)\n",
    "    charge = np.random.randint(0,5)\n",
    "    value = np.random.randint(-4,5)\n",
    "    V[line][charge] = value\n",
    "    #single(obs, line, charge, value)\n",
    "end = time.time()\n",
    "print(end-start)"
   ]
  },
  {
   "cell_type": "code",
   "execution_count": 24,
   "metadata": {},
   "outputs": [
    {
     "name": "stdout",
     "output_type": "stream",
     "text": [
      "0.4597818851470947\n"
     ]
    }
   ],
   "source": [
    "start = time.time()\n",
    "for _ in range(100000):\n",
    "    line = np.random.randint(0,4)\n",
    "    charge = np.random.randint(0,5)\n",
    "    value = np.random.randint(-4,5)\n",
    "    V[line][charge] = value\n",
    "    single(obs, line, charge, value)\n",
    "end = time.time()\n",
    "print(end-start)"
   ]
  },
  {
   "cell_type": "code",
   "execution_count": 25,
   "metadata": {},
   "outputs": [
    {
     "name": "stdout",
     "output_type": "stream",
     "text": [
      "0.82940673828125\n"
     ]
    }
   ],
   "source": [
    "start = time.time()\n",
    "for _ in range(100000):\n",
    "    line = np.random.randint(0,4)\n",
    "    charge = np.random.randint(0,5)\n",
    "    value = np.random.randint(-4,5)\n",
    "    V[line][charge] = value\n",
    "    make_obs(V)\n",
    "end = time.time()\n",
    "print(end-start)"
   ]
  },
  {
   "cell_type": "markdown",
   "metadata": {},
   "source": [
    "the winner is talking directly to the value"
   ]
  },
  {
   "cell_type": "markdown",
   "metadata": {},
   "source": [
    "## Index\n",
    "Next check the index"
   ]
  },
  {
   "cell_type": "code",
   "execution_count": 3,
   "metadata": {},
   "outputs": [],
   "source": [
    "conf = [[1,0, 1, 1], [1,0, 1, 1], [1,1, 1, 0], [1,1, 1, 0], [1,1, 0, 1], [1,1, 0, 1]]\n",
    "M = CICY('5302', conf, doc=False)"
   ]
  },
  {
   "cell_type": "markdown",
   "metadata": {},
   "source": [
    "save the index as sympy.poly"
   ]
  },
  {
   "cell_type": "code",
   "execution_count": 6,
   "metadata": {},
   "outputs": [
    {
     "data": {
      "text/plain": [
       "[m3, m4, m2, m0, m1, m5]"
      ]
     },
     "execution_count": 6,
     "metadata": {},
     "output_type": "execute_result"
    }
   ],
   "source": [
    "index = M.line_index()\n",
    "variables = list(index.free_symbols)\n",
    "variables"
   ]
  },
  {
   "cell_type": "code",
   "execution_count": 7,
   "metadata": {},
   "outputs": [
    {
     "data": {
      "text/plain": [
       "[m0, m1, m2, m3, m4, m5]"
      ]
     },
     "execution_count": 7,
     "metadata": {},
     "output_type": "execute_result"
    }
   ],
   "source": [
    "var_sorted = [variables[3], variables[4], variables[2], variables[0], variables[1], variables[5]]\n",
    "var_sorted"
   ]
  },
  {
   "cell_type": "code",
   "execution_count": 22,
   "metadata": {},
   "outputs": [],
   "source": [
    "d = M.triple\n",
    "c2 = np.array(M.secondchernmatrix())"
   ]
  },
  {
   "cell_type": "code",
   "execution_count": 48,
   "metadata": {},
   "outputs": [],
   "source": [
    "def np_index(line, d, c):\n",
    "    line_tensor = 1/6*np.einsum('i,j,k -> ijk', line, line, line)\n",
    "    #np.array([[[r*s*t for t in line] for s in line] for r in line])\n",
    "    #print(np.einsum('rst, rst', d, line_tensor))\n",
    "    ctensor = 1/12*np.einsum('i, jk -> ijk',line, c)\n",
    "    #np.array([r*c for r in line])\n",
    "    #print(np.einsum('rst, rst', d, ctensor))\n",
    "    t = np.add(line_tensor, ctensor)\n",
    "    return np.einsum('rst, rst', d, t)"
   ]
  },
  {
   "cell_type": "code",
   "execution_count": 8,
   "metadata": {},
   "outputs": [],
   "source": [
    "line_bundles = np.random.randint(-4,5, (1000,M.len))"
   ]
  },
  {
   "cell_type": "code",
   "execution_count": 9,
   "metadata": {},
   "outputs": [
    {
     "name": "stdout",
     "output_type": "stream",
     "text": [
      "1.2947087287902832\n"
     ]
    }
   ],
   "source": [
    "start = time.time()\n",
    "euler = np.zeros(1000)\n",
    "for i in range(1000):\n",
    "    euler[i] += M.line_co_euler(line_bundles[i])\n",
    "end = time.time()\n",
    "print(end-start)"
   ]
  },
  {
   "cell_type": "code",
   "execution_count": 10,
   "metadata": {},
   "outputs": [
    {
     "name": "stdout",
     "output_type": "stream",
     "text": [
      "0.33152008056640625\n"
     ]
    }
   ],
   "source": [
    "start = time.time()\n",
    "leray = np.zeros(1000)\n",
    "for i in range(1000):\n",
    "    leray[i] += M.line_co_euler(line_bundles[i], Leray=True)\n",
    "end = time.time()\n",
    "print(end-start)"
   ]
  },
  {
   "cell_type": "code",
   "execution_count": 11,
   "metadata": {},
   "outputs": [
    {
     "name": "stdout",
     "output_type": "stream",
     "text": [
      "4.42917799949646\n"
     ]
    }
   ],
   "source": [
    "start = time.time()\n",
    "sympy = np.zeros(1000)\n",
    "for i in range(1000):\n",
    "    sympy[i] += index.subs([(a,b) for a,b in zip(var_sorted, line_bundles[i])])\n",
    "end = time.time()\n",
    "print(end-start)"
   ]
  },
  {
   "cell_type": "code",
   "execution_count": 49,
   "metadata": {},
   "outputs": [
    {
     "name": "stdout",
     "output_type": "stream",
     "text": [
      "0.02103734016418457\n"
     ]
    }
   ],
   "source": [
    "start = time.time()\n",
    "manual = np.zeros(1000)\n",
    "for i in range(1000):\n",
    "    manual[i] += np_index(line_bundles[i], d, c2)\n",
    "end = time.time()\n",
    "print(end-start)"
   ]
  },
  {
   "cell_type": "code",
   "execution_count": 50,
   "metadata": {},
   "outputs": [
    {
     "data": {
      "text/plain": [
       "True"
      ]
     },
     "execution_count": 50,
     "metadata": {},
     "output_type": "execute_result"
    }
   ],
   "source": [
    "np.allclose(euler, manual)"
   ]
  },
  {
   "cell_type": "code",
   "execution_count": 51,
   "metadata": {},
   "outputs": [
    {
     "data": {
      "text/plain": [
       "array([[ 4,  5,  6],\n",
       "       [ 8, 10, 12],\n",
       "       [12, 15, 18]])"
      ]
     },
     "execution_count": 51,
     "metadata": {},
     "output_type": "execute_result"
    }
   ],
   "source": [
    "np.einsum('i,j -> ij', [1,2,3], [4,5,6])"
   ]
  },
  {
   "cell_type": "markdown",
   "metadata": {},
   "source": [
    "We find determining the index via Leray seems to be always the fastest"
   ]
  },
  {
   "cell_type": "markdown",
   "metadata": {},
   "source": [
    "## some test with sets"
   ]
  },
  {
   "cell_type": "code",
   "execution_count": 21,
   "metadata": {},
   "outputs": [],
   "source": [
    "import numpy as np"
   ]
  },
  {
   "cell_type": "code",
   "execution_count": 1,
   "metadata": {},
   "outputs": [],
   "source": [
    "X = dict()"
   ]
  },
  {
   "cell_type": "code",
   "execution_count": 2,
   "metadata": {},
   "outputs": [],
   "source": [
    "info = {'V': [122], 'nEpisode': 32, 'nsteps': 22}"
   ]
  },
  {
   "cell_type": "code",
   "execution_count": 4,
   "metadata": {},
   "outputs": [],
   "source": [
    "X.update(info)"
   ]
  },
  {
   "cell_type": "code",
   "execution_count": 5,
   "metadata": {},
   "outputs": [
    {
     "data": {
      "text/plain": [
       "{'V': [122], 'nEpisode': 32, 'nsteps': 22}"
      ]
     },
     "execution_count": 5,
     "metadata": {},
     "output_type": "execute_result"
    }
   ],
   "source": [
    "X"
   ]
  },
  {
   "cell_type": "code",
   "execution_count": 6,
   "metadata": {},
   "outputs": [],
   "source": [
    "info2 = {'V': [122,2], 'nEpisode': 332, 'nsteps': 242}"
   ]
  },
  {
   "cell_type": "code",
   "execution_count": 10,
   "metadata": {},
   "outputs": [],
   "source": [
    "X = {*X, *info}"
   ]
  },
  {
   "cell_type": "code",
   "execution_count": 12,
   "metadata": {},
   "outputs": [],
   "source": [
    "info_list = []\n",
    "info_list += [info]\n",
    "info_list += [info2]"
   ]
  },
  {
   "cell_type": "code",
   "execution_count": 13,
   "metadata": {},
   "outputs": [
    {
     "data": {
      "text/plain": [
       "[{'V': [122], 'nEpisode': 32, 'nsteps': 22},\n",
       " {'V': [122, 2], 'nEpisode': 332, 'nsteps': 242}]"
      ]
     },
     "execution_count": 13,
     "metadata": {},
     "output_type": "execute_result"
    }
   ],
   "source": [
    "info_list"
   ]
  },
  {
   "cell_type": "code",
   "execution_count": 19,
   "metadata": {},
   "outputs": [
    {
     "name": "stdout",
     "output_type": "stream",
     "text": [
      "hi\n",
      "{23: 12}\n"
     ]
    }
   ],
   "source": [
    "empty_set = {23: 12}\n",
    "if empty_set:\n",
    "    print('hi')\n",
    "    print(empty_set)"
   ]
  },
  {
   "cell_type": "code",
   "execution_count": 23,
   "metadata": {},
   "outputs": [],
   "source": [
    "with open('info.out', 'w') as f:\n",
    "    for item in info_list:\n",
    "        f.write(\"%s\\n\" % item)"
   ]
  },
  {
   "cell_type": "code",
   "execution_count": null,
   "metadata": {},
   "outputs": [],
   "source": []
  }
 ],
 "metadata": {
  "kernelspec": {
   "display_name": "Python 3",
   "language": "python",
   "name": "python3"
  },
  "language_info": {
   "codemirror_mode": {
    "name": "ipython",
    "version": 3
   },
   "file_extension": ".py",
   "mimetype": "text/x-python",
   "name": "python",
   "nbconvert_exporter": "python",
   "pygments_lexer": "ipython3",
   "version": "3.6.8"
  }
 },
 "nbformat": 4,
 "nbformat_minor": 2
}
