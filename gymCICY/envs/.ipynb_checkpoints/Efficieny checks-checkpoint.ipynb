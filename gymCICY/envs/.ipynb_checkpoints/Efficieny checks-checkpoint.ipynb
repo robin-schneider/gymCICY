{
 "cells": [
  {
   "cell_type": "code",
   "execution_count": 17,
   "metadata": {},
   "outputs": [],
   "source": [
    "import numpy as np\n",
    "from pyCICY import CICY\n",
    "import sympy as sp\n",
    "import time"
   ]
  },
  {
   "cell_type": "markdown",
   "metadata": {},
   "source": [
    "## Three elements vs Array multiplication\n",
    "\n",
    "changing a single element vs just multiplying an array three times"
   ]
  },
  {
   "cell_type": "code",
   "execution_count": 7,
   "metadata": {},
   "outputs": [],
   "source": [
    "V = np.random.randint(-2,3,(5,7))"
   ]
  },
  {
   "cell_type": "code",
   "execution_count": 8,
   "metadata": {},
   "outputs": [],
   "source": [
    "make_obs = lambda x: np.array([x**(i+1) for i in range(3)])"
   ]
  },
  {
   "cell_type": "code",
   "execution_count": 11,
   "metadata": {},
   "outputs": [],
   "source": [
    "def single(obs, line, charge, value):\n",
    "    for i in range(3):\n",
    "        obs[line][charge][i] = value**(i+1)"
   ]
  },
  {
   "cell_type": "code",
   "execution_count": 13,
   "metadata": {},
   "outputs": [],
   "source": [
    "obs = np.random.randint(-2,3,(5,7,3))"
   ]
  },
  {
   "cell_type": "code",
   "execution_count": 23,
   "metadata": {},
   "outputs": [
    {
     "name": "stdout",
     "output_type": "stream",
     "text": [
      "0.2875816822052002\n"
     ]
    }
   ],
   "source": [
    "start = time.time()\n",
    "for _ in range(100000):\n",
    "    line = np.random.randint(0,4)\n",
    "    charge = np.random.randint(0,5)\n",
    "    value = np.random.randint(-4,5)\n",
    "    V[line][charge] = value\n",
    "    #single(obs, line, charge, value)\n",
    "end = time.time()\n",
    "print(end-start)"
   ]
  },
  {
   "cell_type": "code",
   "execution_count": 24,
   "metadata": {},
   "outputs": [
    {
     "name": "stdout",
     "output_type": "stream",
     "text": [
      "0.4597818851470947\n"
     ]
    }
   ],
   "source": [
    "start = time.time()\n",
    "for _ in range(100000):\n",
    "    line = np.random.randint(0,4)\n",
    "    charge = np.random.randint(0,5)\n",
    "    value = np.random.randint(-4,5)\n",
    "    V[line][charge] = value\n",
    "    single(obs, line, charge, value)\n",
    "end = time.time()\n",
    "print(end-start)"
   ]
  },
  {
   "cell_type": "code",
   "execution_count": 25,
   "metadata": {},
   "outputs": [
    {
     "name": "stdout",
     "output_type": "stream",
     "text": [
      "0.82940673828125\n"
     ]
    }
   ],
   "source": [
    "start = time.time()\n",
    "for _ in range(100000):\n",
    "    line = np.random.randint(0,4)\n",
    "    charge = np.random.randint(0,5)\n",
    "    value = np.random.randint(-4,5)\n",
    "    V[line][charge] = value\n",
    "    make_obs(V)\n",
    "end = time.time()\n",
    "print(end-start)"
   ]
  },
  {
   "cell_type": "markdown",
   "metadata": {},
   "source": [
    "the winner is talking directly to the value"
   ]
  },
  {
   "cell_type": "markdown",
   "metadata": {},
   "source": [
    "## Index\n",
    "Next check the index"
   ]
  },
  {
   "cell_type": "code",
   "execution_count": 26,
   "metadata": {},
   "outputs": [],
   "source": [
    "conf = [[1,0, 1, 1], [1,0, 1, 1], [1,1, 1, 0], [1,1, 1, 0], [1,1, 0, 1], [1,1, 0, 1]]\n",
    "M = CICY('5302', conf, doc=False)"
   ]
  },
  {
   "cell_type": "markdown",
   "metadata": {},
   "source": [
    "save the index as sympy.poly"
   ]
  },
  {
   "cell_type": "code",
   "execution_count": 29,
   "metadata": {},
   "outputs": [],
   "source": [
    "index = M.line_index()\n",
    "variables = list(index.free_symbols)"
   ]
  },
  {
   "cell_type": "code",
   "execution_count": 32,
   "metadata": {},
   "outputs": [],
   "source": [
    "var_sorted = [variables[5], variables[4], variables[2], variables[1], variables[3], variables[0]]"
   ]
  },
  {
   "cell_type": "code",
   "execution_count": 38,
   "metadata": {},
   "outputs": [
    {
     "name": "stdout",
     "output_type": "stream",
     "text": [
      "1.3040196895599365\n"
     ]
    }
   ],
   "source": [
    "start = time.time()\n",
    "for _ in range(1000):\n",
    "    line = np.random.randint(-4,5, (6,))\n",
    "    M.line_co_euler(line)\n",
    "end = time.time()\n",
    "print(end-start)"
   ]
  },
  {
   "cell_type": "code",
   "execution_count": 52,
   "metadata": {},
   "outputs": [
    {
     "name": "stdout",
     "output_type": "stream",
     "text": [
      "0.3306539058685303\n"
     ]
    }
   ],
   "source": [
    "start = time.time()\n",
    "for _ in range(1000):\n",
    "    line = np.random.randint(-4,5, (6,))\n",
    "    M.line_co_euler(line, Leray=True)\n",
    "end = time.time()\n",
    "print(end-start)"
   ]
  },
  {
   "cell_type": "code",
   "execution_count": 40,
   "metadata": {},
   "outputs": [
    {
     "name": "stdout",
     "output_type": "stream",
     "text": [
      "4.230260610580444\n"
     ]
    }
   ],
   "source": [
    "start = time.time()\n",
    "for _ in range(1000):\n",
    "    line = np.random.randint(-4,5, (6,))\n",
    "    index.subs([(a,b) for a,b in zip(var_sorted, line)])\n",
    "end = time.time()\n",
    "print(end-start)"
   ]
  },
  {
   "cell_type": "markdown",
   "metadata": {},
   "source": [
    "We find determining the index via Leray seems to be always the fastest"
   ]
  }
 ],
 "metadata": {
  "kernelspec": {
   "display_name": "Python 3",
   "language": "python",
   "name": "python3"
  },
  "language_info": {
   "codemirror_mode": {
    "name": "ipython",
    "version": 3
   },
   "file_extension": ".py",
   "mimetype": "text/x-python",
   "name": "python",
   "nbconvert_exporter": "python",
   "pygments_lexer": "ipython3",
   "version": "3.6.8"
  }
 },
 "nbformat": 4,
 "nbformat_minor": 2
}
