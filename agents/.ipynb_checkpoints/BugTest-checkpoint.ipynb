{
 "cells": [
  {
   "cell_type": "markdown",
   "metadata": {},
   "source": [
    "# Bug Test\n",
    "\n",
    "In this notebook we test the different gymCICY environment for bugs and correctness."
   ]
  },
  {
   "cell_type": "code",
   "execution_count": 1,
   "metadata": {},
   "outputs": [],
   "source": [
    "import numpy as np\n",
    "import gym\n",
    "import gym_CICYlbmodels\n",
    "from pyCICY import CICY"
   ]
  },
  {
   "cell_type": "markdown",
   "metadata": {},
   "source": [
    "Lets pick a manifold, that allows for a heterotic standard model. We take the example discussed in: https://arxiv.org/pdf/1106.4804.pdf"
   ]
  },
  {
   "cell_type": "code",
   "execution_count": 2,
   "metadata": {},
   "outputs": [],
   "source": [
    "conf = np.array([[1,1,1,0,0], [1,0,0,0,2], [1,0,0,2,0], [1,2,0,0,0], [3,1,1,1,1]])"
   ]
  },
  {
   "cell_type": "code",
   "execution_count": 3,
   "metadata": {},
   "outputs": [],
   "source": [
    "M = CICY(conf)"
   ]
  },
  {
   "cell_type": "code",
   "execution_count": 4,
   "metadata": {},
   "outputs": [],
   "source": [
    "V = np.array([[1,0,0,-1,0], [1, -1,-2,0,1], [0,1,1,1,-1], [0,-1,1,0,0], [-2,1,0,0,0]], dtype=np.int16)"
   ]
  },
  {
   "cell_type": "code",
   "execution_count": 5,
   "metadata": {},
   "outputs": [
    {
     "data": {
      "text/plain": [
       "array([[0., 0., 0., 1., 1.],\n",
       "       [0., 1., 0., 0., 1.],\n",
       "       [0., 0., 1., 0., 1.],\n",
       "       [1., 0., 0., 1., 1.],\n",
       "       [1., 1., 1., 1., 0.]])"
      ]
     },
     "execution_count": 5,
     "metadata": {},
     "output_type": "execute_result"
    }
   ],
   "source": [
    "M.c2_tensor"
   ]
  },
  {
   "cell_type": "code",
   "execution_count": 6,
   "metadata": {},
   "outputs": [],
   "source": [
    "x = M.line_co([2,3,0,1,1])"
   ]
  },
  {
   "cell_type": "code",
   "execution_count": 7,
   "metadata": {},
   "outputs": [
    {
     "data": {
      "text/plain": [
       "[92, 0, 0, 0]"
      ]
     },
     "execution_count": 7,
     "metadata": {},
     "output_type": "execute_result"
    }
   ],
   "source": [
    "x"
   ]
  },
  {
   "cell_type": "code",
   "execution_count": 8,
   "metadata": {},
   "outputs": [],
   "source": [
    "conf2 = np.array([[1,1, 1, 0, 0],\n",
    "        [1,2, 0, 0, 0],\n",
    "        [1,0, 0, 1, 1],\n",
    "        [1,0, 0, 1, 1],\n",
    "        [3, 1, 1, 1, 1]])\n",
    "M2 = CICY(conf2)"
   ]
  },
  {
   "cell_type": "code",
   "execution_count": 9,
   "metadata": {},
   "outputs": [],
   "source": [
    "V2 = np.array([[0, -1, -1, 0, 1], [-1, 1, -2, 2, 0], [-1, 1, -2, 2, 0], [0, 0, -2, 1, 0], [2, -1, 7, -5, -1]], dtype=np.int16)"
   ]
  },
  {
   "cell_type": "markdown",
   "metadata": {},
   "source": [
    "## gymCICY FIX TO V02\n",
    "\n",
    "We need to register the environment."
   ]
  },
  {
   "cell_type": "code",
   "execution_count": 10,
   "metadata": {},
   "outputs": [
    {
     "name": "stderr",
     "output_type": "stream",
     "text": [
      "/home/robin/anaconda3/lib/python3.6/site-packages/gym/envs/registration.py:14: PkgResourcesDeprecationWarning: Parameters to load are deprecated.  Call .resolve and .require separately.\n",
      "  result = entry_point.load(False)\n"
     ]
    }
   ],
   "source": [
    "gym.envs.register(\n",
    "        id='CICY-v0',\n",
    "        entry_point='gym_CICYlbmodels.envs.CICYlbmodels:CICYlbmodel',\n",
    "        kwargs={'M': M, 'r': 2, 'max': 5},\n",
    "        )\n",
    "env = gym.make('CICY-v0')"
   ]
  },
  {
   "cell_type": "markdown",
   "metadata": {},
   "source": [
    "We reset the environment. First state should look like this.\n",
    "\n",
    "array([[ 1., -1.,  1.,  1., -1.],\n",
    "       [-1.,  1.,  0.,  1.,  1.],\n",
    "       [ 1.,  1., -1.,  1.,  0.],\n",
    "       [-1.,  0.,  0.,  0.,  0.],\n",
    "       [-1., -1.,  0.,  0., -1.]])"
   ]
  },
  {
   "cell_type": "code",
   "execution_count": 11,
   "metadata": {},
   "outputs": [
    {
     "data": {
      "text/plain": [
       "array([[ 1, -1,  1,  1, -1],\n",
       "       [-1,  1,  0,  1,  1],\n",
       "       [ 1,  1, -1,  1,  0],\n",
       "       [-1,  0,  0,  0,  0],\n",
       "       [-1, -1,  0,  0, -1]], dtype=int16)"
      ]
     },
     "execution_count": 11,
     "metadata": {},
     "output_type": "execute_result"
    }
   ],
   "source": [
    "env.reset()"
   ]
  },
  {
   "cell_type": "markdown",
   "metadata": {},
   "source": [
    "Do some steps. Everything looks fine."
   ]
  },
  {
   "cell_type": "code",
   "execution_count": 12,
   "metadata": {},
   "outputs": [
    {
     "data": {
      "text/plain": [
       "(array([[ 1, -1,  1,  2, -1],\n",
       "        [-1,  1,  0,  1,  1],\n",
       "        [ 1,  1, -1,  1,  0],\n",
       "        [-1,  0,  0,  0,  0],\n",
       "        [-1, -1,  0,  0, -1]], dtype=int16), -1.2000000000000002, False, {})"
      ]
     },
     "execution_count": 12,
     "metadata": {},
     "output_type": "execute_result"
    }
   ],
   "source": [
    "env.step(3)"
   ]
  },
  {
   "cell_type": "code",
   "execution_count": 13,
   "metadata": {},
   "outputs": [
    {
     "data": {
      "text/plain": [
       "(array([[ 1, -1,  1,  2, -1],\n",
       "        [-1,  1,  0,  2,  1],\n",
       "        [ 1,  1, -1,  1,  0],\n",
       "        [-1,  0,  0,  0,  0],\n",
       "        [-1, -1,  0,  0, -1]], dtype=int16), -1.4000000000000001, False, {})"
      ]
     },
     "execution_count": 13,
     "metadata": {},
     "output_type": "execute_result"
    }
   ],
   "source": [
    "env.step(8)"
   ]
  },
  {
   "cell_type": "markdown",
   "metadata": {},
   "source": [
    "Does it discover a standard model? We set equal to V and also check the periodic boundary conditions."
   ]
  },
  {
   "cell_type": "code",
   "execution_count": 14,
   "metadata": {},
   "outputs": [],
   "source": [
    "env.V = V"
   ]
  },
  {
   "cell_type": "code",
   "execution_count": 15,
   "metadata": {},
   "outputs": [
    {
     "name": "stdout",
     "output_type": "stream",
     "text": [
      "[[ 1  1  0 -1  0]\n",
      " [ 1 -1 -2  0  1]\n",
      " [ 0  1  1  1 -1]\n",
      " [ 0 -1  1  0  0]\n",
      " [-2  1  0  0  0]] -0.2 {}\n",
      "[[ 1  2  0 -1  0]\n",
      " [ 1 -1 -2  0  1]\n",
      " [ 0  1  1  1 -1]\n",
      " [ 0 -1  1  0  0]\n",
      " [-2  1  0  0  0]] -0.4 {}\n",
      "[[ 1  3  0 -1  0]\n",
      " [ 1 -1 -2  0  1]\n",
      " [ 0  1  1  1 -1]\n",
      " [ 0 -1  1  0  0]\n",
      " [-2  1  0  0  0]] -0.6000000000000001 {}\n",
      "[[ 1  4  0 -1  0]\n",
      " [ 1 -1 -2  0  1]\n",
      " [ 0  1  1  1 -1]\n",
      " [ 0 -1  1  0  0]\n",
      " [-2  1  0  0  0]] -0.8 {}\n",
      "[[ 1  5  0 -1  0]\n",
      " [ 1 -1 -2  0  1]\n",
      " [ 0  1  1  1 -1]\n",
      " [ 0 -1  1  0  0]\n",
      " [-2  1  0  0  0]] -1.0 {}\n",
      "[[ 1 -5  0 -1  0]\n",
      " [ 1 -1 -2  0  1]\n",
      " [ 0  1  1  1 -1]\n",
      " [ 0 -1  1  0  0]\n",
      " [-2  1  0  0  0]] -1.0 {}\n",
      "[[ 1 -4  0 -1  0]\n",
      " [ 1 -1 -2  0  1]\n",
      " [ 0  1  1  1 -1]\n",
      " [ 0 -1  1  0  0]\n",
      " [-2  1  0  0  0]] -0.8 {}\n",
      "[[ 1 -3  0 -1  0]\n",
      " [ 1 -1 -2  0  1]\n",
      " [ 0  1  1  1 -1]\n",
      " [ 0 -1  1  0  0]\n",
      " [-2  1  0  0  0]] -0.6000000000000001 {}\n",
      "[[ 1 -2  0 -1  0]\n",
      " [ 1 -1 -2  0  1]\n",
      " [ 0  1  1  1 -1]\n",
      " [ 0 -1  1  0  0]\n",
      " [-2  1  0  0  0]] -0.4 {}\n",
      "[[ 1 -1  0 -1  0]\n",
      " [ 1 -1 -2  0  1]\n",
      " [ 0  1  1  1 -1]\n",
      " [ 0 -1  1  0  0]\n",
      " [-2  1  0  0  0]] -0.2 {}\n",
      "found a SM. Episode: 0 and step 12\n",
      "[[ 1  0  0 -1  0]\n",
      " [ 1 -1 -2  0  1]\n",
      " [ 0  1  1  1 -1]\n",
      " [ 0 -1  1  0  0]\n",
      " [-2  1  0  0  0]] 11020107.0 {'V': array([[ 1,  0,  0, -1,  0],\n",
      "       [ 1, -1, -2,  0,  1],\n",
      "       [ 0,  1,  1,  1, -1],\n",
      "       [ 0, -1,  1,  0,  0],\n",
      "       [-2,  1,  0,  0,  0]], dtype=int16), 'nEpisode': 0, 'nsteps': 12}\n"
     ]
    }
   ],
   "source": [
    "for _ in range(11):\n",
    "    vp, r, b, bla = env.step(1)\n",
    "    print(vp, r, bla)"
   ]
  },
  {
   "cell_type": "markdown",
   "metadata": {},
   "source": [
    "found a SM. Episode: 0 and step 12\n",
    "[[ 1.  0.  0. -1.  0.]\n",
    " [ 1. -1. -2.  0.  1.]\n",
    " [ 0.  1.  1.  1. -1.]\n",
    " [ 0. -1.  1.  0.  0.]\n",
    " [-2.  1.  0.  0.  0.]]"
   ]
  },
  {
   "cell_type": "code",
   "execution_count": 16,
   "metadata": {},
   "outputs": [
    {
     "data": {
      "text/plain": [
       "array([ 8.,  6.,  6., 14., 24.])"
      ]
     },
     "execution_count": 16,
     "metadata": {},
     "output_type": "execute_result"
    }
   ],
   "source": [
    "-1/2*np.einsum('rst,st -> r', M.triple, np.einsum('is,it->st', V, V))"
   ]
  },
  {
   "cell_type": "code",
   "execution_count": 17,
   "metadata": {},
   "outputs": [
    {
     "data": {
      "text/plain": [
       "array([24., 24., 24., 24., 56.])"
      ]
     },
     "execution_count": 17,
     "metadata": {},
     "output_type": "execute_result"
    }
   ],
   "source": [
    "M.second_chern()"
   ]
  },
  {
   "cell_type": "code",
   "execution_count": 18,
   "metadata": {},
   "outputs": [
    {
     "data": {
      "text/plain": [
       "True"
      ]
     },
     "execution_count": 18,
     "metadata": {},
     "output_type": "execute_result"
    }
   ],
   "source": [
    "env._bianchi()"
   ]
  },
  {
   "cell_type": "markdown",
   "metadata": {},
   "source": [
    "success."
   ]
  },
  {
   "cell_type": "markdown",
   "metadata": {},
   "source": [
    "## Flipping"
   ]
  },
  {
   "cell_type": "code",
   "execution_count": 19,
   "metadata": {},
   "outputs": [
    {
     "name": "stderr",
     "output_type": "stream",
     "text": [
      "/home/robin/anaconda3/lib/python3.6/site-packages/gym/envs/registration.py:14: PkgResourcesDeprecationWarning: Parameters to load are deprecated.  Call .resolve and .require separately.\n",
      "  result = entry_point.load(False)\n"
     ]
    }
   ],
   "source": [
    "gym.envs.register(\n",
    "        id='CICY-v1',\n",
    "        entry_point='gym_CICYlbmodels.envs.env_flip:flip',\n",
    "        kwargs={'M': M, 'r': 2, 'max': 5},\n",
    "        )\n",
    "flip = gym.make('CICY-v1')"
   ]
  },
  {
   "cell_type": "markdown",
   "metadata": {},
   "source": [
    "again we reset and check for consistency with seed.\n",
    "\n",
    "array([[ 1, -1,  1,  1, -1],\n",
    "       [-1,  1,  0,  1,  1],\n",
    "       [ 1,  1, -1,  1,  0],\n",
    "       [-1,  0,  0,  0,  0],\n",
    "       [-1, -1,  0,  0, -1]], dtype=int16)"
   ]
  },
  {
   "cell_type": "code",
   "execution_count": 20,
   "metadata": {
    "scrolled": true
   },
   "outputs": [
    {
     "data": {
      "text/plain": [
       "array([[ 1, -1,  1,  1, -1],\n",
       "       [-1,  1,  0,  1,  1],\n",
       "       [ 1,  1, -1,  1,  0],\n",
       "       [-1,  0,  0,  0,  0],\n",
       "       [-1, -1,  0,  0, -1]], dtype=int16)"
      ]
     },
     "execution_count": 20,
     "metadata": {},
     "output_type": "execute_result"
    }
   ],
   "source": [
    "flip.reset()"
   ]
  },
  {
   "cell_type": "markdown",
   "metadata": {},
   "source": [
    "Take some steps"
   ]
  },
  {
   "cell_type": "code",
   "execution_count": 21,
   "metadata": {},
   "outputs": [
    {
     "data": {
      "text/plain": [
       "(array([[ 1,  0,  1,  1, -1],\n",
       "        [-1,  1,  0,  1,  1],\n",
       "        [ 1,  1, -1,  1,  0],\n",
       "        [-1,  0,  0,  0,  0],\n",
       "        [-1, -1,  0,  0, -1]], dtype=int16), -1.2000000000000002, False, {})"
      ]
     },
     "execution_count": 21,
     "metadata": {},
     "output_type": "execute_result"
    }
   ],
   "source": [
    "flip.step(1)"
   ]
  },
  {
   "cell_type": "markdown",
   "metadata": {},
   "source": [
    "this should bring us back to where we were"
   ]
  },
  {
   "cell_type": "code",
   "execution_count": 22,
   "metadata": {},
   "outputs": [
    {
     "data": {
      "text/plain": [
       "(array([[ 1, -1,  1,  1, -1],\n",
       "        [-1,  1,  0,  1,  1],\n",
       "        [ 1,  1, -1,  1,  0],\n",
       "        [-1,  0,  0,  0,  0],\n",
       "        [-1, -1,  0,  0, -1]], dtype=int16), -1.0, False, {})"
      ]
     },
     "execution_count": 22,
     "metadata": {},
     "output_type": "execute_result"
    }
   ],
   "source": [
    "flip.step(1+5*5)"
   ]
  },
  {
   "cell_type": "code",
   "execution_count": 23,
   "metadata": {},
   "outputs": [
    {
     "name": "stdout",
     "output_type": "stream",
     "text": [
      "[43 24 48 26 41 27 15 14 46 43]\n",
      "[[ 1 -1  1  1 -1]\n",
      " [-1  1  0  1  1]\n",
      " [ 1  1 -1  1  0]\n",
      " [-1  0  0 -1  0]\n",
      " [-1 -1  0  0 -1]] -0.8\n",
      "[[ 1 -1  1  1 -1]\n",
      " [-1  1  0  1  1]\n",
      " [ 1  1 -1  1  0]\n",
      " [-1  0  0 -1  0]\n",
      " [-1 -1  0  0  0]] -0.6000000000000001\n",
      "[[ 1 -1  1  1 -1]\n",
      " [-1  1  0  1  1]\n",
      " [ 1  1 -1  1  0]\n",
      " [-1  0  0 -1  0]\n",
      " [-1 -1  0 -1  0]] -0.4\n",
      "[[ 1 -2  1  1 -1]\n",
      " [-1  1  0  1  1]\n",
      " [ 1  1 -1  1  0]\n",
      " [-1  0  0 -1  0]\n",
      " [-1 -1  0 -1  0]] -0.6000000000000001\n",
      "[[ 1 -2  1  1 -1]\n",
      " [-1  1  0  1  1]\n",
      " [ 1  1 -1  1  0]\n",
      " [-1 -1  0 -1  0]\n",
      " [-1 -1  0 -1  0]] -0.8\n",
      "[[ 1 -2  0  1 -1]\n",
      " [-1  1  0  1  1]\n",
      " [ 1  1 -1  1  0]\n",
      " [-1 -1  0 -1  0]\n",
      " [-1 -1  0 -1  0]] -1.0\n",
      "[[ 1 -2  0  1 -1]\n",
      " [-1  1  0  1  1]\n",
      " [ 1  1 -1  1  0]\n",
      " [ 0 -1  0 -1  0]\n",
      " [-1 -1  0 -1  0]] -0.8\n",
      "[[ 1 -2  0  1 -1]\n",
      " [-1  1  0  1  1]\n",
      " [ 1  1 -1  1  1]\n",
      " [ 0 -1  0 -1  0]\n",
      " [-1 -1  0 -1  0]] -1.0\n",
      "[[ 1 -2  0  1 -1]\n",
      " [-1  1  0  1  1]\n",
      " [ 1  1 -1  1  1]\n",
      " [ 0 -1  0 -1  0]\n",
      " [-1 -2  0 -1  0]] -1.2000000000000002\n",
      "[[ 1 -2  0  1 -1]\n",
      " [-1  1  0  1  1]\n",
      " [ 1  1 -1  1  1]\n",
      " [ 0 -1  0 -2  0]\n",
      " [-1 -2  0 -1  0]] -1.0\n"
     ]
    }
   ],
   "source": [
    "x = np.random.randint(0,50, (10,))\n",
    "print(x)\n",
    "for action in x:\n",
    "    obs, r, b, d = flip.step(action)\n",
    "    print(obs, r)"
   ]
  },
  {
   "cell_type": "markdown",
   "metadata": {},
   "source": [
    "nice. Let's do the standard model test."
   ]
  },
  {
   "cell_type": "code",
   "execution_count": 24,
   "metadata": {},
   "outputs": [],
   "source": [
    "flip.V = V"
   ]
  },
  {
   "cell_type": "code",
   "execution_count": 25,
   "metadata": {},
   "outputs": [
    {
     "data": {
      "text/plain": [
       "(array([[ 1,  1,  0, -1,  0],\n",
       "        [ 1, -1, -2,  0,  1],\n",
       "        [ 0,  1,  1,  1, -1],\n",
       "        [ 0, -1,  1,  0,  0],\n",
       "        [-2,  1,  0,  0,  0]], dtype=int16), -0.2, False, {})"
      ]
     },
     "execution_count": 25,
     "metadata": {},
     "output_type": "execute_result"
    }
   ],
   "source": [
    "flip.step(1)"
   ]
  },
  {
   "cell_type": "code",
   "execution_count": 26,
   "metadata": {},
   "outputs": [
    {
     "name": "stdout",
     "output_type": "stream",
     "text": [
      "found a SM. Episode: 0 and step 13\n"
     ]
    },
    {
     "data": {
      "text/plain": [
       "(array([[ 1,  0,  0, -1,  0],\n",
       "        [ 1, -1, -2,  0,  1],\n",
       "        [ 0,  1,  1,  1, -1],\n",
       "        [ 0, -1,  1,  0,  0],\n",
       "        [-2,  1,  0,  0,  0]], dtype=int16),\n",
       " 11020107.0,\n",
       " True,\n",
       " {'V': array([[ 1,  0,  0, -1,  0],\n",
       "         [ 1, -1, -2,  0,  1],\n",
       "         [ 0,  1,  1,  1, -1],\n",
       "         [ 0, -1,  1,  0,  0],\n",
       "         [-2,  1,  0,  0,  0]], dtype=int16), 'nEpisode': 0, 'nsteps': 13})"
      ]
     },
     "execution_count": 26,
     "metadata": {},
     "output_type": "execute_result"
    }
   ],
   "source": [
    "flip.step(1+5*5)"
   ]
  },
  {
   "cell_type": "markdown",
   "metadata": {},
   "source": [
    "### 4p1"
   ]
  },
  {
   "cell_type": "code",
   "execution_count": 27,
   "metadata": {},
   "outputs": [
    {
     "name": "stderr",
     "output_type": "stream",
     "text": [
      "/home/robin/anaconda3/lib/python3.6/site-packages/gym/envs/registration.py:14: PkgResourcesDeprecationWarning: Parameters to load are deprecated.  Call .resolve and .require separately.\n",
      "  result = entry_point.load(False)\n"
     ]
    }
   ],
   "source": [
    "gym.envs.register(\n",
    "        id='CICY-v2',\n",
    "        entry_point='gym_CICYlbmodels.envs.env_flip_4:flip_4',\n",
    "        kwargs={'M': M, 'r': 2, 'max': 5},\n",
    "        )\n",
    "flip_4 = gym.make('CICY-v2')"
   ]
  },
  {
   "cell_type": "code",
   "execution_count": 28,
   "metadata": {},
   "outputs": [
    {
     "data": {
      "text/plain": [
       "array([[-1, -1,  1,  1,  1],\n",
       "       [ 0,  1,  0,  0,  1],\n",
       "       [ 0,  1,  1, -1,  1],\n",
       "       [-1,  1,  1, -1, -1],\n",
       "       [ 2, -2, -3,  1, -2]], dtype=int16)"
      ]
     },
     "execution_count": 28,
     "metadata": {},
     "output_type": "execute_result"
    }
   ],
   "source": [
    "flip_4.reset()"
   ]
  },
  {
   "cell_type": "markdown",
   "metadata": {},
   "source": [
    "Take some steps"
   ]
  },
  {
   "cell_type": "code",
   "execution_count": 29,
   "metadata": {},
   "outputs": [
    {
     "data": {
      "text/plain": [
       "(array([[-1,  0,  1,  1,  1],\n",
       "        [ 0,  1,  0,  0,  1],\n",
       "        [ 0,  1,  1, -1,  1],\n",
       "        [-1,  1,  1, -1, -1],\n",
       "        [ 2, -3, -3,  1, -2]], dtype=int16), -0.8, False, {})"
      ]
     },
     "execution_count": 29,
     "metadata": {},
     "output_type": "execute_result"
    }
   ],
   "source": [
    "flip_4.step(1)"
   ]
  },
  {
   "cell_type": "markdown",
   "metadata": {},
   "source": [
    "this should bring us back to where we were"
   ]
  },
  {
   "cell_type": "code",
   "execution_count": 30,
   "metadata": {},
   "outputs": [
    {
     "data": {
      "text/plain": [
       "(array([[-1, -1,  1,  1,  1],\n",
       "        [ 0,  1,  0,  0,  1],\n",
       "        [ 0,  1,  1, -1,  1],\n",
       "        [-1,  1,  1, -1, -1],\n",
       "        [ 2, -2, -3,  1, -2]], dtype=int16), -0.8, False, {})"
      ]
     },
     "execution_count": 30,
     "metadata": {},
     "output_type": "execute_result"
    }
   ],
   "source": [
    "flip_4.step(1+4*5)"
   ]
  },
  {
   "cell_type": "markdown",
   "metadata": {},
   "source": [
    "Let's do some random changes:"
   ]
  },
  {
   "cell_type": "code",
   "execution_count": 31,
   "metadata": {},
   "outputs": [
    {
     "name": "stdout",
     "output_type": "stream",
     "text": [
      "[ 8 25  1 19 27  6  7 34 13 16]\n",
      "[[-1 -1  1  1  1]\n",
      " [ 0  1  0  1  1]\n",
      " [ 0  1  1 -1  1]\n",
      " [-1  1  1 -1 -1]\n",
      " [ 2 -2 -3  0 -2]] -1.0\n",
      "[[-1 -1  1  1  1]\n",
      " [-1  1  0  1  1]\n",
      " [ 0  1  1 -1  1]\n",
      " [-1  1  1 -1 -1]\n",
      " [ 3 -2 -3  0 -2]] -0.8\n",
      "[[-1  0  1  1  1]\n",
      " [-1  1  0  1  1]\n",
      " [ 0  1  1 -1  1]\n",
      " [-1  1  1 -1 -1]\n",
      " [ 3 -3 -3  0 -2]] -0.8\n",
      "[[-1  0  1  1  1]\n",
      " [-1  1  0  1  1]\n",
      " [ 0  1  1 -1  1]\n",
      " [-1  1  1 -1  0]\n",
      " [ 3 -3 -3  0 -3]] -0.8\n",
      "[[-1  0  1  1  1]\n",
      " [-1  1 -1  1  1]\n",
      " [ 0  1  1 -1  1]\n",
      " [-1  1  1 -1  0]\n",
      " [ 3 -3 -2  0 -3]] -0.8\n",
      "[[-1  0  1  1  1]\n",
      " [-1  2 -1  1  1]\n",
      " [ 0  1  1 -1  1]\n",
      " [-1  1  1 -1  0]\n",
      " [ 3 -4 -2  0 -3]] -0.8\n",
      "[[-1  0  1  1  1]\n",
      " [-1  2  0  1  1]\n",
      " [ 0  1  1 -1  1]\n",
      " [-1  1  1 -1  0]\n",
      " [ 3 -4 -3  0 -3]] -0.8\n",
      "[[-1  0  1  1  1]\n",
      " [-1  2  0  1  1]\n",
      " [ 0  1  1 -1  0]\n",
      " [-1  1  1 -1  0]\n",
      " [ 3 -4 -3  0 -2]] -0.4\n",
      "[[-1  0  1  1  1]\n",
      " [-1  2  0  1  1]\n",
      " [ 0  1  1  0  0]\n",
      " [-1  1  1 -1  0]\n",
      " [ 3 -4 -3 -1 -2]] -0.8\n",
      "[[-1  0  1  1  1]\n",
      " [-1  2  0  1  1]\n",
      " [ 0  1  1  0  0]\n",
      " [-1  2  1 -1  0]\n",
      " [ 3 -5 -3 -1 -2]] -0.8\n"
     ]
    }
   ],
   "source": [
    "x = np.random.randint(0,40, (10,))\n",
    "print(x)\n",
    "for action in x:\n",
    "    obs, r, b, d = flip_4.step(action)\n",
    "    print(obs, r)"
   ]
  },
  {
   "cell_type": "markdown",
   "metadata": {},
   "source": [
    "nice. Let's do the standard model test."
   ]
  },
  {
   "cell_type": "code",
   "execution_count": 32,
   "metadata": {},
   "outputs": [],
   "source": [
    "flip_4.V = V"
   ]
  },
  {
   "cell_type": "code",
   "execution_count": 33,
   "metadata": {},
   "outputs": [
    {
     "data": {
      "text/plain": [
       "array([[ 1,  0,  0, -1,  0],\n",
       "       [ 1, -1, -2,  0,  1],\n",
       "       [ 0,  1,  1,  1, -1],\n",
       "       [ 0, -1,  1,  0,  0],\n",
       "       [-2,  1,  0,  0,  0]], dtype=int16)"
      ]
     },
     "execution_count": 33,
     "metadata": {},
     "output_type": "execute_result"
    }
   ],
   "source": [
    "flip_4.V"
   ]
  },
  {
   "cell_type": "code",
   "execution_count": 34,
   "metadata": {},
   "outputs": [
    {
     "data": {
      "text/plain": [
       "(array([[ 1,  1,  0, -1,  0],\n",
       "        [ 1, -1, -2,  0,  1],\n",
       "        [ 0,  1,  1,  1, -1],\n",
       "        [ 0, -1,  1,  0,  0],\n",
       "        [-2,  0,  0,  0,  0]], dtype=int16), -0.2, False, {})"
      ]
     },
     "execution_count": 34,
     "metadata": {},
     "output_type": "execute_result"
    }
   ],
   "source": [
    "flip_4.step(1)"
   ]
  },
  {
   "cell_type": "code",
   "execution_count": 35,
   "metadata": {},
   "outputs": [
    {
     "name": "stdout",
     "output_type": "stream",
     "text": [
      "found a SM. Episode: 0 and step 13\n"
     ]
    },
    {
     "data": {
      "text/plain": [
       "(array([[ 1,  0,  0, -1,  0],\n",
       "        [ 1, -1, -2,  0,  1],\n",
       "        [ 0,  1,  1,  1, -1],\n",
       "        [ 0, -1,  1,  0,  0],\n",
       "        [-2,  1,  0,  0,  0]], dtype=int16),\n",
       " 11020102.0,\n",
       " True,\n",
       " {'V': array([[ 1,  0,  0, -1,  0],\n",
       "         [ 1, -1, -2,  0,  1],\n",
       "         [ 0,  1,  1,  1, -1],\n",
       "         [ 0, -1,  1,  0,  0],\n",
       "         [-2,  1,  0,  0,  0]], dtype=int16), 'nEpisode': 0, 'nsteps': 13})"
      ]
     },
     "execution_count": 35,
     "metadata": {},
     "output_type": "execute_result"
    }
   ],
   "source": [
    "flip_4.step(1+4*5)"
   ]
  },
  {
   "cell_type": "markdown",
   "metadata": {},
   "source": [
    "## A second example?"
   ]
  },
  {
   "cell_type": "code",
   "execution_count": 36,
   "metadata": {},
   "outputs": [
    {
     "name": "stderr",
     "output_type": "stream",
     "text": [
      "/home/robin/anaconda3/lib/python3.6/site-packages/gym/envs/registration.py:14: PkgResourcesDeprecationWarning: Parameters to load are deprecated.  Call .resolve and .require separately.\n",
      "  result = entry_point.load(False)\n"
     ]
    }
   ],
   "source": [
    "gym.envs.register(\n",
    "        id='CICY-v8',\n",
    "        entry_point='gym_CICYlbmodels.envs.env_flip_4:flip_4',\n",
    "        kwargs={'M': M2, 'r': 2, 'max': 5},\n",
    "        )\n",
    "flip_4_2 = gym.make('CICY-v8')"
   ]
  },
  {
   "cell_type": "code",
   "execution_count": 37,
   "metadata": {},
   "outputs": [
    {
     "data": {
      "text/plain": [
       "array([[-1, -1,  1,  1,  1],\n",
       "       [ 0,  1,  0,  0,  1],\n",
       "       [ 0,  1,  1, -1,  1],\n",
       "       [-1,  1,  1, -1, -1],\n",
       "       [ 2, -2, -3,  1, -2]], dtype=int16)"
      ]
     },
     "execution_count": 37,
     "metadata": {},
     "output_type": "execute_result"
    }
   ],
   "source": [
    "flip_4_2.reset()"
   ]
  },
  {
   "cell_type": "code",
   "execution_count": 38,
   "metadata": {},
   "outputs": [],
   "source": [
    "flip_4_2.V = V2"
   ]
  },
  {
   "cell_type": "code",
   "execution_count": 39,
   "metadata": {},
   "outputs": [
    {
     "data": {
      "text/plain": [
       "(array([[ 0,  0, -1,  0,  1],\n",
       "        [-1,  1, -2,  2,  0],\n",
       "        [-1,  1, -2,  2,  0],\n",
       "        [ 0,  0, -2,  1,  0],\n",
       "        [ 2, -2,  7, -5, -1]], dtype=int16), -0.2, False, {})"
      ]
     },
     "execution_count": 39,
     "metadata": {},
     "output_type": "execute_result"
    }
   ],
   "source": [
    "flip_4_2.step(1)"
   ]
  },
  {
   "cell_type": "code",
   "execution_count": 40,
   "metadata": {},
   "outputs": [
    {
     "data": {
      "text/plain": [
       "(array([[ 0, -1, -1,  0,  1],\n",
       "        [-1,  1, -2,  2,  0],\n",
       "        [-1,  1, -2,  2,  0],\n",
       "        [ 0,  0, -2,  1,  0],\n",
       "        [ 2, -1,  7, -5, -1]], dtype=int16), 102, False, {})"
      ]
     },
     "execution_count": 40,
     "metadata": {},
     "output_type": "execute_result"
    }
   ],
   "source": [
    "flip_4_2.step(1+4*5)"
   ]
  },
  {
   "cell_type": "code",
   "execution_count": 41,
   "metadata": {},
   "outputs": [
    {
     "data": {
      "text/plain": [
       "array([100.,  94.,  12.,  12., 102.])"
      ]
     },
     "execution_count": 41,
     "metadata": {},
     "output_type": "execute_result"
    }
   ],
   "source": [
    "-1/2*np.einsum('rst,st -> r', M2.triple, np.einsum('is,it->st', V2, V2))"
   ]
  },
  {
   "cell_type": "code",
   "execution_count": 42,
   "metadata": {},
   "outputs": [
    {
     "data": {
      "text/plain": [
       "array([24., 24., 24., 24., 40.])"
      ]
     },
     "execution_count": 42,
     "metadata": {},
     "output_type": "execute_result"
    }
   ],
   "source": [
    "M2.second_chern()"
   ]
  },
  {
   "cell_type": "code",
   "execution_count": 43,
   "metadata": {},
   "outputs": [
    {
     "data": {
      "text/plain": [
       "False"
      ]
     },
     "execution_count": 43,
     "metadata": {},
     "output_type": "execute_result"
    }
   ],
   "source": [
    "flip_4_2._bianchi()"
   ]
  },
  {
   "cell_type": "code",
   "execution_count": 44,
   "metadata": {},
   "outputs": [
    {
     "data": {
      "text/plain": [
       "{m0, m1, m2, m3, m4, t0, t1, t2, t3, t4}"
      ]
     },
     "execution_count": 44,
     "metadata": {},
     "output_type": "execute_result"
    }
   ],
   "source": [
    "expr = M2.line_slope()\n",
    "expr.free_symbols"
   ]
  },
  {
   "cell_type": "code",
   "execution_count": 45,
   "metadata": {},
   "outputs": [
    {
     "data": {
      "text/plain": [
       "[4.0*t0*t2 - 4.0*t0*t4 + 8.0*t1*t2 + 4.0*t1*t3 - 4.0*t3*t4 - 4.0*t4**2,\n",
       " 12.0*t0*t2 - 4.0*t0*t3 + 4.0*t0*t4 + 4.0*t1*t2 - 12.0*t1*t3 - 4.0*t1*t4 + 8.0*t2*t4 - 8.0*t3*t4,\n",
       " 12.0*t0*t2 - 4.0*t0*t3 + 4.0*t0*t4 + 4.0*t1*t2 - 12.0*t1*t3 - 4.0*t1*t4 + 8.0*t2*t4 - 8.0*t3*t4,\n",
       " -4.0*t0*t1 + 4.0*t0*t2 - 8.0*t0*t3 - 8.0*t0*t4 + 4.0*t1*t2 - 8.0*t1*t3 - 8.0*t1*t4 + 4.0*t2*t4 - 8.0*t3*t4 - 4.0*t4**2,\n",
       " 4.0*t0*t1 - 32.0*t0*t2 + 16.0*t0*t3 + 4.0*t0*t4 - 20.0*t1*t2 + 28.0*t1*t3 + 16.0*t1*t4 - 20.0*t2*t4 + 28.0*t3*t4 + 8.0*t4**2]"
      ]
     },
     "execution_count": 45,
     "metadata": {},
     "output_type": "execute_result"
    }
   ],
   "source": [
    "sys = []\n",
    "for line in V2:\n",
    "    sys += [expr.subs({'m0': line[0], 'm1': line[1], 'm2': line[2], 'm3': line[3], 'm4': line[4]})]\n",
    "sys"
   ]
  },
  {
   "cell_type": "markdown",
   "metadata": {},
   "source": [
    "## Stacking"
   ]
  },
  {
   "cell_type": "code",
   "execution_count": 46,
   "metadata": {},
   "outputs": [
    {
     "name": "stderr",
     "output_type": "stream",
     "text": [
      "/home/robin/anaconda3/lib/python3.6/site-packages/gym/envs/registration.py:14: PkgResourcesDeprecationWarning: Parameters to load are deprecated.  Call .resolve and .require separately.\n",
      "  result = entry_point.load(False)\n"
     ]
    }
   ],
   "source": [
    "gym.envs.register(\n",
    "        id='CICY-v3',\n",
    "        entry_point='gym_CICYlbmodels.envs.env_stack:stack',\n",
    "        kwargs={'M': M, 'r': 2, 'max': 2},\n",
    "        )\n",
    "stacking = gym.make('CICY-v3')"
   ]
  },
  {
   "cell_type": "code",
   "execution_count": 47,
   "metadata": {},
   "outputs": [
    {
     "data": {
      "text/plain": [
       "550"
      ]
     },
     "execution_count": 47,
     "metadata": {},
     "output_type": "execute_result"
    }
   ],
   "source": [
    "stacking.nstacks"
   ]
  },
  {
   "cell_type": "code",
   "execution_count": 48,
   "metadata": {},
   "outputs": [
    {
     "data": {
      "text/plain": [
       "array([[ 1,  0, -2,  1,  0],\n",
       "       [ 0,  1, -2,  0,  0],\n",
       "       [ 1,  2, -1, -2,  0],\n",
       "       [ 0,  2,  1, -1,  0],\n",
       "       [ 1,  1,  2,  1, -2]], dtype=int16)"
      ]
     },
     "execution_count": 48,
     "metadata": {},
     "output_type": "execute_result"
    }
   ],
   "source": [
    "stacking.reset()"
   ]
  },
  {
   "cell_type": "code",
   "execution_count": 49,
   "metadata": {},
   "outputs": [
    {
     "data": {
      "text/plain": [
       "(array([[-1,  1,  2,  1, -1],\n",
       "        [ 0,  1, -2,  0,  0],\n",
       "        [ 1,  2, -1, -2,  0],\n",
       "        [ 0,  2,  1, -1,  0],\n",
       "        [ 1,  1,  2,  1, -2]], dtype=int16), -2.8000000000000003, False, {})"
      ]
     },
     "execution_count": 49,
     "metadata": {},
     "output_type": "execute_result"
    }
   ],
   "source": [
    "stacking.step(1)"
   ]
  },
  {
   "cell_type": "code",
   "execution_count": 50,
   "metadata": {},
   "outputs": [
    {
     "data": {
      "text/plain": [
       "(array([[-1,  1,  2,  1, -1],\n",
       "        [ 1, -2,  1,  2, -1],\n",
       "        [ 1,  2, -1, -2,  0],\n",
       "        [ 0,  2,  1, -1,  0],\n",
       "        [ 1,  1,  2,  1, -2]], dtype=int16), -3.2, False, {})"
      ]
     },
     "execution_count": 50,
     "metadata": {},
     "output_type": "execute_result"
    }
   ],
   "source": [
    "stacking.step(3)"
   ]
  },
  {
   "cell_type": "markdown",
   "metadata": {},
   "source": [
    "do some random steps"
   ]
  },
  {
   "cell_type": "code",
   "execution_count": 51,
   "metadata": {},
   "outputs": [
    {
     "name": "stdout",
     "output_type": "stream",
     "text": [
      "[458  87 372  99 130 308 343 491 413 385]\n",
      "[[-1  1  2  1 -1]\n",
      " [ 1 -2  1  2 -1]\n",
      " [ 1  1  2 -2 -1]\n",
      " [ 0  2  1 -1  0]\n",
      " [ 1  1  2  1 -2]] -3.8000000000000003\n",
      "[[-1  1  2  1 -1]\n",
      " [ 1 -2  1  2 -1]\n",
      " [ 1  1  2 -2 -1]\n",
      " [ 1  1  0 -2  0]\n",
      " [ 1  1  2  1 -2]] -3.4000000000000004\n",
      "[[-1  1  2  1 -1]\n",
      " [ 1 -2  1  2 -1]\n",
      " [ 1  1  2 -2 -1]\n",
      " [ 1  1  0 -2  0]\n",
      " [ 2  1 -2  0  0]] -2.6\n",
      "[[-1 -2  1  1  1]\n",
      " [ 1 -2  1  2 -1]\n",
      " [ 1  1  2 -2 -1]\n",
      " [ 1  1  0 -2  0]\n",
      " [ 2  1 -2  0  0]] -1.8\n",
      "[[-1 -2  1  1  1]\n",
      " [ 2 -1 -1 -2  1]\n",
      " [ 1  1  2 -2 -1]\n",
      " [ 1  1  0 -2  0]\n",
      " [ 2  1 -2  0  0]] -2.2\n",
      "[[-1 -2  1  1  1]\n",
      " [ 2 -1 -1 -2  1]\n",
      " [-1 -2  1 -1  2]\n",
      " [ 1  1  0 -2  0]\n",
      " [ 2  1 -2  0  0]] -3.0\n",
      "[[-1 -2  1  1  1]\n",
      " [ 2 -1 -1 -2  1]\n",
      " [-1 -2  1 -1  2]\n",
      " [-1  0 -2  2  1]\n",
      " [ 2  1 -2  0  0]] -2.6\n",
      "[[-1 -2  1  1  1]\n",
      " [ 2 -1 -1 -2  1]\n",
      " [-1 -2  1 -1  2]\n",
      " [-1  0 -2  2  1]\n",
      " [-1  2  2  0  0]] -2.2\n",
      "[[ 1  1  2  0 -2]\n",
      " [ 2 -1 -1 -2  1]\n",
      " [-1 -2  1 -1  2]\n",
      " [-1  0 -2  2  1]\n",
      " [-1  2  2  0  0]] -1.0\n",
      "[[ 1  1  2  0 -2]\n",
      " [ 1  0  1 -1  0]\n",
      " [-1 -2  1 -1  2]\n",
      " [-1  0 -2  2  1]\n",
      " [-1  2  2  0  0]] -1.4000000000000001\n"
     ]
    }
   ],
   "source": [
    "x = np.random.randint(0,stacking.nstacks, (10,))\n",
    "print(x)\n",
    "for action in x:\n",
    "    obs, r, b, d = stacking.step(action)\n",
    "    print(obs, r)"
   ]
  },
  {
   "cell_type": "markdown",
   "metadata": {},
   "source": [
    "Do the SM check"
   ]
  },
  {
   "cell_type": "code",
   "execution_count": 52,
   "metadata": {},
   "outputs": [
    {
     "data": {
      "text/plain": [
       "array([[ 1,  0, -1, -2,  0],\n",
       "       [-1, -1,  0, -1,  1],\n",
       "       [-2,  0,  1, -2,  1],\n",
       "       [ 1,  1,  2, -1, -1],\n",
       "       [-1,  2,  2,  2, -2]], dtype=int16)"
      ]
     },
     "execution_count": 52,
     "metadata": {},
     "output_type": "execute_result"
    }
   ],
   "source": [
    "stacking.reset()"
   ]
  },
  {
   "cell_type": "code",
   "execution_count": 53,
   "metadata": {},
   "outputs": [],
   "source": [
    "steps = []\n",
    "for v in V:\n",
    "    for line, i in zip(stacking.stacks, range(stacking.nstacks)):\n",
    "        if np.array_equal(line, v):\n",
    "            steps += [i]"
   ]
  },
  {
   "cell_type": "code",
   "execution_count": 54,
   "metadata": {},
   "outputs": [
    {
     "name": "stdout",
     "output_type": "stream",
     "text": [
      "[52, 379, 480, 427, 60]\n",
      "0\n",
      "[[ 1  0  0 -1  0]\n",
      " [-1 -1  0 -1  1]\n",
      " [-2  0  1 -2  1]\n",
      " [ 1  1  2 -1 -1]\n",
      " [-1  2  2  2 -2]] -2.6\n",
      "1\n",
      "[[ 1  0  0 -1  0]\n",
      " [ 1 -1 -2  0  1]\n",
      " [-2  0  1 -2  1]\n",
      " [ 1  1  2 -1 -1]\n",
      " [-1  2  2  2 -2]] -1.6\n",
      "2\n",
      "[[ 1  0  0 -1  0]\n",
      " [ 1 -1 -2  0  1]\n",
      " [ 0  1  1  1 -1]\n",
      " [ 1  1  2 -1 -1]\n",
      " [-1  2  2  2 -2]] -2.4000000000000004\n",
      "3\n",
      "[[ 1  0  0 -1  0]\n",
      " [ 1 -1 -2  0  1]\n",
      " [ 0  1  1  1 -1]\n",
      " [ 0 -1  1  0  0]\n",
      " [-1  2  2  2 -2]] -1.6\n",
      "found a SM. Episode: 1 and step 4\n",
      "4\n",
      "[[ 1  0  0 -1  0]\n",
      " [ 1 -1 -2  0  1]\n",
      " [ 0  1  1  1 -1]\n",
      " [ 0 -1  1  0  0]\n",
      " [-2  1  0  0  0]] 11020105.0\n"
     ]
    }
   ],
   "source": [
    "print(steps)\n",
    "for action in steps:\n",
    "    obs, r, b, d = stacking.step(action)\n",
    "    print(stacking.nsteps)\n",
    "    print(obs, r)"
   ]
  },
  {
   "cell_type": "code",
   "execution_count": 55,
   "metadata": {},
   "outputs": [
    {
     "data": {
      "text/plain": [
       "array([ 0, -4,  0,  0, -2], dtype=int16)"
      ]
     },
     "execution_count": 55,
     "metadata": {},
     "output_type": "execute_result"
    }
   ],
   "source": [
    "stacking.index"
   ]
  },
  {
   "cell_type": "code",
   "execution_count": 56,
   "metadata": {},
   "outputs": [
    {
     "name": "stdout",
     "output_type": "stream",
     "text": [
      "[[ 1  0  0 -1  0]\n",
      " [ 1 -1 -2  0  1]\n",
      " [ 0  1  1  1 -1]\n",
      " [ 0 -1  1  0  0]\n",
      " [-2  1  0  0  0]]\n"
     ]
    },
    {
     "data": {
      "text/plain": [
       "array([[ 1,  0,  0, -1,  0],\n",
       "       [ 1, -1, -2,  0,  1],\n",
       "       [ 0,  1,  1,  1, -1],\n",
       "       [ 0, -1,  1,  0,  0],\n",
       "       [-2,  1,  0,  0,  0]], dtype=int16)"
      ]
     },
     "execution_count": 56,
     "metadata": {},
     "output_type": "execute_result"
    }
   ],
   "source": [
    "print(stacking.V)\n",
    "V"
   ]
  },
  {
   "cell_type": "code",
   "execution_count": 57,
   "metadata": {},
   "outputs": [
    {
     "name": "stdout",
     "output_type": "stream",
     "text": [
      "found a SM. Episode: 1 and step 4\n"
     ]
    },
    {
     "data": {
      "text/plain": [
       "11020105.0"
      ]
     },
     "execution_count": 57,
     "metadata": {},
     "output_type": "execute_result"
    }
   ],
   "source": [
    "stacking._get_reward()"
   ]
  },
  {
   "cell_type": "code",
   "execution_count": 58,
   "metadata": {},
   "outputs": [
    {
     "data": {
      "text/plain": [
       "(True, 5)"
      ]
     },
     "execution_count": 58,
     "metadata": {},
     "output_type": "execute_result"
    }
   ],
   "source": [
    "stacking._sun()"
   ]
  },
  {
   "cell_type": "code",
   "execution_count": 59,
   "metadata": {},
   "outputs": [
    {
     "data": {
      "text/plain": [
       "(True, 0)"
      ]
     },
     "execution_count": 59,
     "metadata": {},
     "output_type": "execute_result"
    }
   ],
   "source": [
    "stacking._wstability()"
   ]
  },
  {
   "cell_type": "code",
   "execution_count": 60,
   "metadata": {},
   "outputs": [
    {
     "data": {
      "text/plain": [
       "(True, 100)"
      ]
     },
     "execution_count": 60,
     "metadata": {},
     "output_type": "execute_result"
    }
   ],
   "source": [
    "stacking._index()"
   ]
  },
  {
   "cell_type": "code",
   "execution_count": 61,
   "metadata": {},
   "outputs": [
    {
     "data": {
      "text/plain": [
       "True"
      ]
     },
     "execution_count": 61,
     "metadata": {},
     "output_type": "execute_result"
    }
   ],
   "source": [
    "stacking._bianchi()"
   ]
  },
  {
   "cell_type": "code",
   "execution_count": 62,
   "metadata": {},
   "outputs": [
    {
     "data": {
      "text/plain": [
       "True"
      ]
     },
     "execution_count": 62,
     "metadata": {},
     "output_type": "execute_result"
    }
   ],
   "source": [
    "stacking._index_triplet()"
   ]
  },
  {
   "cell_type": "code",
   "execution_count": 63,
   "metadata": {},
   "outputs": [
    {
     "data": {
      "text/plain": [
       "True"
      ]
     },
     "execution_count": 63,
     "metadata": {},
     "output_type": "execute_result"
    }
   ],
   "source": [
    "stacking._higgs_doublet()"
   ]
  },
  {
   "cell_type": "markdown",
   "metadata": {},
   "source": [
    "### 4p1"
   ]
  },
  {
   "cell_type": "markdown",
   "metadata": {},
   "source": [
    "Last, we check the stack of four environment."
   ]
  },
  {
   "cell_type": "code",
   "execution_count": 64,
   "metadata": {},
   "outputs": [
    {
     "name": "stderr",
     "output_type": "stream",
     "text": [
      "/home/robin/anaconda3/lib/python3.6/site-packages/gym/envs/registration.py:14: PkgResourcesDeprecationWarning: Parameters to load are deprecated.  Call .resolve and .require separately.\n",
      "  result = entry_point.load(False)\n"
     ]
    }
   ],
   "source": [
    "gym.envs.register(\n",
    "        id='CICY-v4',\n",
    "        entry_point='gym_CICYlbmodels.envs.env_stack_4:stack_4',\n",
    "        kwargs={'M': M, 'r': 2, 'max': 2},\n",
    "        )\n",
    "stacking_4 = gym.make('CICY-v4')"
   ]
  },
  {
   "cell_type": "code",
   "execution_count": 65,
   "metadata": {},
   "outputs": [
    {
     "data": {
      "text/plain": [
       "array([[ 1, -1, -1,  0,  0],\n",
       "       [ 1,  0, -2,  1,  0],\n",
       "       [ 0,  1, -2,  0,  0],\n",
       "       [ 1,  2, -1, -2,  0],\n",
       "       [-3, -2,  6,  1,  0]], dtype=int16)"
      ]
     },
     "execution_count": 65,
     "metadata": {},
     "output_type": "execute_result"
    }
   ],
   "source": [
    "stacking_4.reset()"
   ]
  },
  {
   "cell_type": "code",
   "execution_count": 66,
   "metadata": {},
   "outputs": [
    {
     "data": {
      "text/plain": [
       "(array([[-1,  1,  2,  1, -1],\n",
       "        [ 1,  0, -2,  1,  0],\n",
       "        [ 0,  1, -2,  0,  0],\n",
       "        [ 1,  2, -1, -2,  0],\n",
       "        [-1, -4,  3,  0,  1]], dtype=int16), 102, False, {})"
      ]
     },
     "execution_count": 66,
     "metadata": {},
     "output_type": "execute_result"
    }
   ],
   "source": [
    "stacking_4.step(1)"
   ]
  },
  {
   "cell_type": "code",
   "execution_count": 67,
   "metadata": {},
   "outputs": [
    {
     "data": {
      "text/plain": [
       "(array([[-1,  1,  2,  1, -1],\n",
       "        [ 1, -2,  1,  2, -1],\n",
       "        [ 0,  1, -2,  0,  0],\n",
       "        [ 1,  2, -1, -2,  0],\n",
       "        [-1, -2,  0, -1,  2]], dtype=int16), 18.0, False, {})"
      ]
     },
     "execution_count": 67,
     "metadata": {},
     "output_type": "execute_result"
    }
   ],
   "source": [
    "stacking_4.step(3)"
   ]
  },
  {
   "cell_type": "markdown",
   "metadata": {},
   "source": [
    "do some random steps"
   ]
  },
  {
   "cell_type": "code",
   "execution_count": 68,
   "metadata": {},
   "outputs": [
    {
     "name": "stdout",
     "output_type": "stream",
     "text": [
      "[214 330 458  87 372  99 130 308 343 491]\n",
      "[[-1  1  2  1 -1]\n",
      " [ 1 -2  1  2 -1]\n",
      " [ 0  2  1 -1  0]\n",
      " [ 1  2 -1 -2  0]\n",
      " [-1 -3 -3  0  2]] 2\n",
      "[[-1  1  2  1 -1]\n",
      " [ 1 -2  1  2 -1]\n",
      " [ 0  2  1 -1  0]\n",
      " [ 1  1  2  1 -2]\n",
      " [-1 -2 -6 -3  4]] 2\n",
      "[[ 1  1  2 -2 -1]\n",
      " [ 1 -2  1  2 -1]\n",
      " [ 0  2  1 -1  0]\n",
      " [ 1  1  2  1 -2]\n",
      " [-3 -2 -6  0  4]] 2\n",
      "[[ 1  1  2 -2 -1]\n",
      " [ 1  1  0 -2  0]\n",
      " [ 0  2  1 -1  0]\n",
      " [ 1  1  2  1 -2]\n",
      " [-3 -5 -5  4  3]] 2\n",
      "[[ 1  1  2 -2 -1]\n",
      " [ 1  1  0 -2  0]\n",
      " [ 2  1 -2  0  0]\n",
      " [ 1  1  2  1 -2]\n",
      " [-5 -4 -2  3  3]] 2\n",
      "[[ 1  1  2 -2 -1]\n",
      " [ 1  1  0 -2  0]\n",
      " [ 2  1 -2  0  0]\n",
      " [-1 -2  1  1  1]\n",
      " [-3 -1 -1  3  0]] 2\n",
      "[[ 2 -1 -1 -2  1]\n",
      " [ 1  1  0 -2  0]\n",
      " [ 2  1 -2  0  0]\n",
      " [-1 -2  1  1  1]\n",
      " [-4  1  2  3 -2]] 2\n",
      "[[ 2 -1 -1 -2  1]\n",
      " [-1 -2  1 -1  2]\n",
      " [ 2  1 -2  0  0]\n",
      " [-1 -2  1  1  1]\n",
      " [-2  4  1  2 -4]] 2\n",
      "[[ 2 -1 -1 -2  1]\n",
      " [-1 -2  1 -1  2]\n",
      " [-1  0 -2  2  1]\n",
      " [-1 -2  1  1  1]\n",
      " [ 1  5  1  0 -5]] 2\n",
      "[[ 2 -1 -1 -2  1]\n",
      " [-1 -2  1 -1  2]\n",
      " [-1  0 -2  2  1]\n",
      " [-1  2  2  0  0]\n",
      " [ 1  1  0  1 -4]] 2\n"
     ]
    }
   ],
   "source": [
    "x = np.random.randint(0,stacking_4.nstacks, (10,))\n",
    "print(x)\n",
    "for action in x:\n",
    "    obs, r, b, d = stacking_4.step(action)\n",
    "    print(obs, r)"
   ]
  },
  {
   "cell_type": "markdown",
   "metadata": {},
   "source": [
    "Do the SM check"
   ]
  },
  {
   "cell_type": "code",
   "execution_count": 69,
   "metadata": {},
   "outputs": [
    {
     "data": {
      "text/plain": [
       "array([[ 1,  1,  2,  0, -2],\n",
       "       [ 1,  0,  1, -1,  0],\n",
       "       [ 1,  0, -1, -2,  0],\n",
       "       [-1, -1,  0, -1,  1],\n",
       "       [-2,  0, -2,  4,  1]], dtype=int16)"
      ]
     },
     "execution_count": 69,
     "metadata": {},
     "output_type": "execute_result"
    }
   ],
   "source": [
    "stacking_4.reset()"
   ]
  },
  {
   "cell_type": "code",
   "execution_count": 70,
   "metadata": {},
   "outputs": [],
   "source": [
    "steps = []\n",
    "for v in V:\n",
    "    for line, i in zip(stacking_4.stacks, range(stacking_4.nstacks)):\n",
    "        if np.array_equal(line, v):\n",
    "            steps += [i]"
   ]
  },
  {
   "cell_type": "code",
   "execution_count": 71,
   "metadata": {},
   "outputs": [
    {
     "name": "stdout",
     "output_type": "stream",
     "text": [
      "[52, 379, 480, 427, 60]\n",
      "0\n",
      "[[ 1  0  0 -1  0]\n",
      " [ 1  0  1 -1  0]\n",
      " [ 1  0 -1 -2  0]\n",
      " [-1 -1  0 -1  1]\n",
      " [-2  1  0  5 -1]] 2\n",
      "1\n",
      "[[ 1  0  0 -1  0]\n",
      " [ 1 -1 -2  0  1]\n",
      " [ 1  0 -1 -2  0]\n",
      " [-1 -1  0 -1  1]\n",
      " [-2  2  3  4 -2]] 2\n",
      "2\n",
      "[[ 1  0  0 -1  0]\n",
      " [ 1 -1 -2  0  1]\n",
      " [ 0  1  1  1 -1]\n",
      " [-1 -1  0 -1  1]\n",
      " [-1  1  1  1 -1]] 20.0\n",
      "found a SM. Episode: 1 and step 3\n",
      "3\n",
      "[[ 1  0  0 -1  0]\n",
      " [ 1 -1 -2  0  1]\n",
      " [ 0  1  1  1 -1]\n",
      " [ 0 -1  1  0  0]\n",
      " [-2  1  0  0  0]] 11020102.0\n"
     ]
    }
   ],
   "source": [
    "print(steps)\n",
    "for action in steps:\n",
    "    obs, r, b, d = stacking_4.step(action)\n",
    "    print(stacking_4.nsteps)\n",
    "    print(obs, r)\n",
    "    if b:\n",
    "        break"
   ]
  },
  {
   "cell_type": "markdown",
   "metadata": {},
   "source": [
    "nice!"
   ]
  },
  {
   "cell_type": "markdown",
   "metadata": {},
   "source": [
    "### 4p1r"
   ]
  },
  {
   "cell_type": "markdown",
   "metadata": {},
   "source": [
    "Last, we check the stack of four environment. refined."
   ]
  },
  {
   "cell_type": "code",
   "execution_count": 72,
   "metadata": {},
   "outputs": [],
   "source": [
    "import time"
   ]
  },
  {
   "cell_type": "code",
   "execution_count": 73,
   "metadata": {},
   "outputs": [],
   "source": [
    "from gym_CICYlbmodels.envs.stack import create_stack, create_stack_h, _quick_index"
   ]
  },
  {
   "cell_type": "code",
   "execution_count": 74,
   "metadata": {},
   "outputs": [
    {
     "data": {
      "text/plain": [
       "0.08663511276245117"
      ]
     },
     "execution_count": 74,
     "metadata": {},
     "output_type": "execute_result"
    }
   ],
   "source": [
    "s = time.time()\n",
    "stack = create_stack(M, 2, 2)\n",
    "end = time.time()-s\n",
    "end"
   ]
  },
  {
   "cell_type": "code",
   "execution_count": 75,
   "metadata": {},
   "outputs": [
    {
     "data": {
      "text/plain": [
       "3.6927576065063477"
      ]
     },
     "execution_count": 75,
     "metadata": {},
     "output_type": "execute_result"
    }
   ],
   "source": [
    "s = time.time()\n",
    "stack, h, istack = create_stack_h(M, 2, 2)\n",
    "end = time.time()-s\n",
    "end"
   ]
  },
  {
   "cell_type": "code",
   "execution_count": 77,
   "metadata": {},
   "outputs": [
    {
     "name": "stderr",
     "output_type": "stream",
     "text": [
      "/home/robin/anaconda3/lib/python3.6/site-packages/gym/envs/registration.py:14: PkgResourcesDeprecationWarning: Parameters to load are deprecated.  Call .resolve and .require separately.\n",
      "  result = entry_point.load(False)\n"
     ]
    }
   ],
   "source": [
    "gym.envs.register(\n",
    "        id='CICY-v9',\n",
    "        entry_point='gym_CICYlbmodels.envs.env_stack_4:stack_4',\n",
    "        kwargs={'M': M, 'r': 2, 'max': 2},\n",
    "        )\n",
    "stacking_4 = gym.make('CICY-v9')"
   ]
  },
  {
   "cell_type": "code",
   "execution_count": null,
   "metadata": {},
   "outputs": [],
   "source": []
  }
 ],
 "metadata": {
  "kernelspec": {
   "display_name": "Python 3",
   "language": "python",
   "name": "python3"
  },
  "language_info": {
   "codemirror_mode": {
    "name": "ipython",
    "version": 3
   },
   "file_extension": ".py",
   "mimetype": "text/x-python",
   "name": "python",
   "nbconvert_exporter": "python",
   "pygments_lexer": "ipython3",
   "version": "3.6.8"
  }
 },
 "nbformat": 4,
 "nbformat_minor": 2
}
