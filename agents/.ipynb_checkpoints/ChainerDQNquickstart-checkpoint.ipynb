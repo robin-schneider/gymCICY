{
 "cells": [
  {
   "cell_type": "markdown",
   "metadata": {},
   "source": [
    "# A simple example\n",
    "We basically copy from the quickstart tutorial [https://github.com/chainer/chainerrl/blob/master/examples/quickstart/quickstart.ipynb]\n",
    "we begin by importing some packages"
   ]
  },
  {
   "cell_type": "code",
   "execution_count": 4,
   "metadata": {},
   "outputs": [],
   "source": [
    "import chainer\n",
    "import chainer.functions as F\n",
    "import chainer.links as L\n",
    "import chainerrl\n",
    "\n",
    "import gym\n",
    "import gym_CICYlbmodels\n",
    "\n",
    "import time\n",
    "import numpy as np\n",
    "from pyCICY import CICY"
   ]
  },
  {
   "cell_type": "markdown",
   "metadata": {},
   "source": [
    "## Set Up"
   ]
  },
  {
   "cell_type": "markdown",
   "metadata": {},
   "source": [
    "define the CICY we want to study"
   ]
  },
  {
   "cell_type": "code",
   "execution_count": 2,
   "metadata": {},
   "outputs": [],
   "source": [
    "M = CICY('5302', [[1,0, 1, 1], [1,0, 1, 1], [1,1, 1, 0], [1,1, 1, 0], [1,1, 0, 1], [1,1, 0, 1]], doc=False)\n",
    "g = np.array([[-1, 0, 0, 0, 0, 0, 0, 0, 0, 0, 0, 0], \n",
    "            [0, 1, 0, 0, 0, 0, 0, 0, 0, 0, 0, 0], [0, 0, -1, 0, 0, 0, 0, 0, 0, 0, \n",
    "             0, 0], [0, 0, 0, 1, 0, 0, 0, 0, 0, 0, 0, 0], [0, 0, 0, 0, -1, 0, 0, \n",
    "             0, 0, 0, 0, 0], [0, 0, 0, 0, 0, 1, 0, 0, 0, 0, 0, 0], \n",
    "            [0, 0, 0, 0, 0, 0, -1, 0, 0, 0, 0, 0], [0, 0, 0, 0, 0, 0, 0, 1, 0, 0, \n",
    "             0, 0], [0, 0, 0, 0, 0, 0, 0, 0, -1, 0, 0, 0], [0, 0, 0, 0, 0, 0, 0, \n",
    "             0, 0, 1, 0, 0], [0, 0, 0, 0, 0, 0, 0, 0, 0, 0, -1, 0], \n",
    "            [0, 0, 0, 0, 0, 0, 0, 0, 0, 0, 0, 1]])\n",
    "rank = 2"
   ]
  },
  {
   "cell_type": "markdown",
   "metadata": {},
   "source": [
    "## DQN - FLIP"
   ]
  },
  {
   "cell_type": "markdown",
   "metadata": {},
   "source": [
    "Next we want to load the gym environment"
   ]
  },
  {
   "cell_type": "code",
   "execution_count": 3,
   "metadata": {},
   "outputs": [
    {
     "name": "stderr",
     "output_type": "stream",
     "text": [
      "/home/robin/anaconda3/lib/python3.6/site-packages/gym/envs/registration.py:14: PkgResourcesDeprecationWarning: Parameters to load are deprecated.  Call .resolve and .require separately.\n",
      "  result = entry_point.load(False)\n"
     ]
    }
   ],
   "source": [
    "gym.envs.register(\n",
    "        id='CICY-v0',\n",
    "        entry_point='gym_CICYlbmodels.envs.CICYlbmodels_flip:CICYlbmodels_flip',\n",
    "        kwargs={'M': M, 'r': rank, 'g': g, 'max': 5, 'negative_reward': True},\n",
    "        )\n",
    "env = gym.make('CICY-v0')"
   ]
  },
  {
   "cell_type": "markdown",
   "metadata": {},
   "source": [
    "some observations"
   ]
  },
  {
   "cell_type": "code",
   "execution_count": 4,
   "metadata": {},
   "outputs": [
    {
     "name": "stdout",
     "output_type": "stream",
     "text": [
      "observation space: None\n",
      "action space: Discrete(60)\n",
      "initial observation: [ 0. -1. -1.  0.  0.  1. -1.  0. -1.  1. -1. -1.  1.  0.  1.  0.  1.  0.\n",
      "  1. -1. -1.  0. -1.  0. -1. -1. -1.  1.  1.  1.]\n",
      "next observation: [ 0. -1. -1.  0.  0.  1. -1.  0. -1.  1. -1. -1.  1.  0.  0.  0.  1.  0.\n",
      "  1. -1. -1.  0. -1.  0. -1. -1. -1.  1.  1.  1.]\n",
      "reward: 10.0\n",
      "done: False\n",
      "info: {}\n"
     ]
    }
   ],
   "source": [
    "print('observation space:', env.observation_space)\n",
    "print('action space:', env.action_space)\n",
    "\n",
    "obs = env.reset()\n",
    "print('initial observation:', obs)\n",
    "\n",
    "action = env.action_space.sample()\n",
    "obs, r, done, info = env.step(action)\n",
    "print('next observation:', obs)\n",
    "print('reward:', r)\n",
    "print('done:', done)\n",
    "print('info:', info)"
   ]
  },
  {
   "cell_type": "markdown",
   "metadata": {},
   "source": [
    "Define Q-function of DQN network"
   ]
  },
  {
   "cell_type": "code",
   "execution_count": 5,
   "metadata": {},
   "outputs": [],
   "source": [
    "class QFunction(chainer.Chain):\n",
    "\n",
    "    def __init__(self, obs_size, n_actions, n_hidden_channels=50):\n",
    "        super().__init__()\n",
    "        with self.init_scope():\n",
    "            self.l0 = L.Linear(obs_size, n_hidden_channels)\n",
    "            self.l1 = L.Linear(n_hidden_channels, n_hidden_channels)\n",
    "            self.l2 = L.Linear(n_hidden_channels, n_hidden_channels+100)\n",
    "            self.l3 = L.Linear(n_hidden_channels+100, n_actions)\n",
    "\n",
    "    def __call__(self, x, test=False):\n",
    "        \"\"\"\n",
    "        Args:\n",
    "            x (ndarray or chainer.Variable): An observation\n",
    "            test (bool): a flag indicating whether it is in test mode\n",
    "        \"\"\"\n",
    "        h = F.relu(self.l0(x))\n",
    "        h = F.relu(self.l1(h))\n",
    "        h = F.relu(self.l2(h))\n",
    "        return chainerrl.action_value.DiscreteActionValue(self.l3(h))\n",
    "\n",
    "obs_size = 5*M.len\n",
    "n_actions = 2*5*M.len\n",
    "q_func = QFunction(obs_size, n_actions)"
   ]
  },
  {
   "cell_type": "code",
   "execution_count": 8,
   "metadata": {},
   "outputs": [],
   "source": [
    "#for entry in q_func.params():\n",
    "#    print(entry)\n",
    "#q_func.l0"
   ]
  },
  {
   "cell_type": "code",
   "execution_count": 9,
   "metadata": {},
   "outputs": [
    {
     "data": {
      "text/plain": [
       "<chainer.optimizers.adam.Adam at 0x7f70681f0f98>"
      ]
     },
     "execution_count": 9,
     "metadata": {},
     "output_type": "execute_result"
    }
   ],
   "source": [
    "optimizer = chainer.optimizers.Adam(eps=1e-2)\n",
    "optimizer.setup(q_func)"
   ]
  },
  {
   "cell_type": "code",
   "execution_count": 10,
   "metadata": {},
   "outputs": [],
   "source": [
    "# Set the discount factor that discounts future rewards.\n",
    "gamma = 0.95\n",
    "\n",
    "# Use epsilon-greedy for exploration\n",
    "explorer = chainerrl.explorers.ConstantEpsilonGreedy(\n",
    "    epsilon=0.3, random_action_func=env.action_space.sample)\n",
    "\n",
    "# DQN uses Experience Replay.\n",
    "# Specify a replay buffer and its capacity.\n",
    "replay_buffer = chainerrl.replay_buffer.ReplayBuffer(capacity=10 ** 6)\n",
    "\n",
    "# Since observations from CICYlbcohoms is numpy.int while\n",
    "# Chainer only accepts numpy.float32 by default, specify\n",
    "# a converter as a feature extractor function phi.\n",
    "phi = lambda x: x.astype(np.float32, copy=False)\n",
    "\n",
    "# Now create an agent that will interact with the environment.\n",
    "agent = chainerrl.agents.DoubleDQN(\n",
    "    q_func, optimizer, replay_buffer, gamma, explorer,\n",
    "    replay_start_size=1000, update_interval=1,\n",
    "    target_update_interval=50, phi=phi)"
   ]
  },
  {
   "cell_type": "markdown",
   "metadata": {},
   "source": [
    "We start training"
   ]
  },
  {
   "cell_type": "code",
   "execution_count": null,
   "metadata": {},
   "outputs": [],
   "source": [
    "n_episodes = 400\n",
    "max_episode_len = 1000\n",
    "for i in range(1, n_episodes + 1):\n",
    "    obs = env.reset()\n",
    "    reward = 0\n",
    "    done = False\n",
    "    R = 0  # return (sum of rewards)\n",
    "    t = 0  # time step\n",
    "    while not done and t < max_episode_len:\n",
    "        # Uncomment to watch the behaviour\n",
    "        # env.render()\n",
    "        action = agent.act_and_train(obs, reward)\n",
    "        obs, reward, done, _ = env.step(action)\n",
    "        R += reward\n",
    "        t += 1\n",
    "    if i % 20 == 0:\n",
    "        print('episode:', i,\n",
    "              'R:', R,\n",
    "              'statistics:', agent.get_statistics())\n",
    "        print(obs.reshape((5,M.len)))\n",
    "    agent.stop_episode_and_train(obs, reward, done)\n",
    "print('Finished.')"
   ]
  },
  {
   "cell_type": "markdown",
   "metadata": {},
   "source": [
    "Make a test run"
   ]
  },
  {
   "cell_type": "code",
   "execution_count": null,
   "metadata": {},
   "outputs": [],
   "source": [
    "for i in range(5):\n",
    "    obs = env.reset()\n",
    "    done = False\n",
    "    R = 0\n",
    "    t = 0\n",
    "    while not done and t < 1000:\n",
    "        #env.render()\n",
    "        action = agent.act(obs)\n",
    "        obs, r, done, _ = env.step(action)\n",
    "        R += r\n",
    "        t += 1\n",
    "    print('test episode:', i, 'R:', R)\n",
    "    print('Final observation', obs.reshape((5,M.len)))\n",
    "    agent.stop_episode()"
   ]
  },
  {
   "cell_type": "code",
   "execution_count": null,
   "metadata": {},
   "outputs": [],
   "source": [
    "for _ in range(1000):\n",
    "    V = np.random.randint(-3,4,(5,M.len)).astype(np.float64).flatten()\n",
    "    print(agent.act(V))"
   ]
  },
  {
   "cell_type": "code",
   "execution_count": null,
   "metadata": {},
   "outputs": [],
   "source": [
    "for entry in q_func.params():\n",
    "    print(entry)"
   ]
  },
  {
   "cell_type": "markdown",
   "metadata": {},
   "source": [
    "## Random walker"
   ]
  },
  {
   "cell_type": "markdown",
   "metadata": {},
   "source": [
    "We compare against a Random walker"
   ]
  },
  {
   "cell_type": "code",
   "execution_count": 11,
   "metadata": {},
   "outputs": [
    {
     "name": "stdout",
     "output_type": "stream",
     "text": [
      "Random walker, episode: 0 . Total Reward: -20392.0\n",
      "Final observation:\n",
      "[[-3. -2.  1.  3.  4.  0.]\n",
      " [-5.  3.  3.  5. -4. -2.]\n",
      " [ 3.  5.  1.  4. -2.  0.]\n",
      " [-3. -4. -4. -4.  3. -5.]\n",
      " [ 2.  4. -3.  2.  3.  5.]]\n",
      "Random walker, episode: 1 . Total Reward: -12080.0\n",
      "Final observation:\n",
      "[[ 4. -5.  0.  3. -4. -2.]\n",
      " [ 5. -5.  0. -1. -3.  5.]\n",
      " [ 5. -2.  2.  2. -1.  0.]\n",
      " [-1.  5.  3.  0. -4.  5.]\n",
      " [-1. -4. -3. -2. -5.  0.]]\n",
      "Random walker, episode: 2 . Total Reward: -5869.0\n",
      "Final observation:\n",
      "[[-1.  0. -4.  3.  3.  0.]\n",
      " [-4.  5.  4. -2. -5. -3.]\n",
      " [ 5.  3.  5. -4.  3. -1.]\n",
      " [-1.  2.  0. -3.  0.  5.]\n",
      " [ 4. -5.  3. -2. -5.  3.]]\n",
      "Random walker, episode: 3 . Total Reward: -6887.0\n",
      "Final observation:\n",
      "[[ 2.  1. -3.  1.  1.  3.]\n",
      " [-4. -3.  5.  5. -3.  1.]\n",
      " [ 4.  4.  5.  2.  3. -3.]\n",
      " [ 2. -3. -1.  4. -3.  1.]\n",
      " [-2. -1. -5. -2.  0.  4.]]\n",
      "Random walker, episode: 4 . Total Reward: -3828.0\n",
      "Final observation:\n",
      "[[-1. -4.  1. -2.  1. -5.]\n",
      " [-4. -2.  2.  3.  0.  2.]\n",
      " [ 2. -5.  4.  0.  2. -5.]\n",
      " [ 5. -3. -4.  0. -2.  2.]\n",
      " [-3.  4. -3. -3. -2.  4.]]\n",
      "Random walker, episode: 5 . Total Reward: -6614.0\n",
      "Final observation:\n",
      "[[ 4.  0.  3.  3. -5.  2.]\n",
      " [ 3.  1. -5. -3.  2. -4.]\n",
      " [ 3. -2. -3.  1. -2. -5.]\n",
      " [-5. -4. -3. -5.  5.  1.]\n",
      " [-5. -5.  3. -2.  4. -1.]]\n",
      "Random walker, episode: 6 . Total Reward: -9744.0\n",
      "Final observation:\n",
      "[[ 3.  4.  0.  4. -2.  1.]\n",
      " [ 1. -3. -3.  2. -2.  3.]\n",
      " [ 1.  5.  4. -1. -5. -1.]\n",
      " [-5.  0.  2. -4. -2.  2.]\n",
      " [-2.  1. -3.  1.  1.  3.]]\n",
      "Random walker, episode: 7 . Total Reward: -19218.0\n",
      "Final observation:\n",
      "[[ 0.  4.  1. -5. -5.  4.]\n",
      " [ 5. -5. -4.  2.  0.  5.]\n",
      " [ 3.  5.  2. -5. -1.  3.]\n",
      " [-3. -3.  4.  3. -3.  2.]\n",
      " [-2.  2. -3.  2.  3.  4.]]\n",
      "Random walker, episode: 8 . Total Reward: -14732.0\n",
      "Final observation:\n",
      "[[ 5. -2.  4.  0. -2.  4.]\n",
      " [ 2. -1. -3.  5. -2. -4.]\n",
      " [ 5. -5.  4. -3.  0. -2.]\n",
      " [ 5.  0. -1. -4.  1.  0.]\n",
      " [-3. -2. -4.  1.  5.  4.]]\n",
      "Random walker, episode: 9 . Total Reward: -8913.0\n",
      "Final observation:\n",
      "[[-3.  5.  3. -1.  2.  1.]\n",
      " [ 0. -5. -2. -5.  0.  4.]\n",
      " [ 0. -1. -2.  4. -4. -4.]\n",
      " [-2.  0.  0.  4.  3.  3.]\n",
      " [ 0. -5.  1. -3. -3.  5.]]\n"
     ]
    }
   ],
   "source": [
    "for i in range(10):\n",
    "    obs = env.reset()\n",
    "    done = False\n",
    "    R = 0\n",
    "    t = 0\n",
    "    while not done and t < 1000-1:\n",
    "        #env.render()\n",
    "        action = np.random.randint(n_actions)\n",
    "        obs, r, done, _ = env.step(action)\n",
    "        R += r\n",
    "        t += 1\n",
    "    print('Random walker, episode:', i, '. Total Reward:', R)\n",
    "    print('Final observation:')\n",
    "    print(obs.reshape((5,M.len)))"
   ]
  },
  {
   "cell_type": "markdown",
   "metadata": {},
   "source": [
    "## DQN - stack"
   ]
  },
  {
   "cell_type": "markdown",
   "metadata": {},
   "source": [
    "load some prepared stacks"
   ]
  },
  {
   "cell_type": "code",
   "execution_count": 3,
   "metadata": {},
   "outputs": [
    {
     "data": {
      "text/plain": [
       "(32902, 2623, 1443, 4848)"
      ]
     },
     "execution_count": 3,
     "metadata": {},
     "output_type": "execute_result"
    }
   ],
   "source": [
    "stack5 = np.load('5302stack.npy')\n",
    "stack4 = np.load('5302stack4.npy')\n",
    "stack4x4 = np.load('5302stack4x4.npy')\n",
    "stack3 = np.load('5302stack3.npy')\n",
    "len(stack5), len(stack4), len(stack3), len(stack4x4)"
   ]
  },
  {
   "cell_type": "code",
   "execution_count": 10,
   "metadata": {},
   "outputs": [
    {
     "data": {
      "text/plain": [
       "41.068763971328735"
      ]
     },
     "execution_count": 10,
     "metadata": {},
     "output_type": "execute_result"
    }
   ],
   "source": [
    "start = time.time()\n",
    "index_formula = np.array([M.line_co_euler(line, Leray=False) for line in stack5])\n",
    "end = time.time()\n",
    "end-start\n",
    "#40.86795425415039 no Leray\n",
    "#9.877737045288086 with Leray"
   ]
  },
  {
   "cell_type": "code",
   "execution_count": 9,
   "metadata": {},
   "outputs": [
    {
     "data": {
      "text/plain": [
       "9.805777549743652"
      ]
     },
     "execution_count": 9,
     "metadata": {},
     "output_type": "execute_result"
    }
   ],
   "source": [
    "start = time.time()\n",
    "index = np.zeros(len(stack5))\n",
    "for i in range(len(stack5)):\n",
    "    index[i] = M.line_co_euler(stack5[i], Leray=True)\n",
    "end = time.time()\n",
    "end-start"
   ]
  },
  {
   "cell_type": "code",
   "execution_count": 14,
   "metadata": {},
   "outputs": [
    {
     "data": {
      "text/plain": [
       "True"
      ]
     },
     "execution_count": 14,
     "metadata": {},
     "output_type": "execute_result"
    }
   ],
   "source": [
    "np.allclose(index, index_formula)"
   ]
  },
  {
   "cell_type": "code",
   "execution_count": 13,
   "metadata": {},
   "outputs": [
    {
     "data": {
      "text/plain": [
       "(array([-6.,  0.,  0., ...,  0.,  0.,  0.]),\n",
       " array([-6.00000000e+00, -1.63757896e-15, -1.63757896e-15, ...,\n",
       "        -4.16333634e-16, -9.70057368e-15, -4.77395901e-15]))"
      ]
     },
     "execution_count": 13,
     "metadata": {},
     "output_type": "execute_result"
    }
   ],
   "source": [
    "index, index_formula"
   ]
  },
  {
   "cell_type": "code",
   "execution_count": null,
   "metadata": {},
   "outputs": [],
   "source": []
  },
  {
   "cell_type": "code",
   "execution_count": null,
   "metadata": {},
   "outputs": [],
   "source": [
    "gym.envs.register(\n",
    "        id='CICYstack-v0',\n",
    "        entry_point='gym_CICYlbmodels.envs.CICYlbmodels_stack:CICYlbmodels_stack',\n",
    "        kwargs={'M': M, 'r': rank, 'g': g, 'max': 5, 'pre': True, 'stacks': stack},\n",
    "        )\n",
    "env_stack = gym.make('CICYstack-v0')"
   ]
  },
  {
   "cell_type": "code",
   "execution_count": null,
   "metadata": {},
   "outputs": [],
   "source": []
  },
  {
   "cell_type": "code",
   "execution_count": null,
   "metadata": {},
   "outputs": [],
   "source": [
    "stack_actions = len(stack)\n",
    "q_func_stack = QFunction(obs_size, stack_actions)"
   ]
  },
  {
   "cell_type": "code",
   "execution_count": null,
   "metadata": {},
   "outputs": [],
   "source": [
    "gamma = 0.9"
   ]
  },
  {
   "cell_type": "code",
   "execution_count": null,
   "metadata": {},
   "outputs": [],
   "source": [
    "optimizer_stack = chainer.optimizers.Adam(eps=1e-2)\n",
    "optimizer_stack.setup(q_func_stack)\n",
    "\n",
    "# Now create an agent that will interact with the environment.\n",
    "agent_stack = chainerrl.agents.DoubleDQN(\n",
    "    q_func_stack, optimizer_stack, replay_buffer, gamma, explorer,\n",
    "    replay_start_size=1000, update_interval=1,\n",
    "    target_update_interval=50, phi=phi)\n",
    "print('stack, ini done')"
   ]
  },
  {
   "cell_type": "markdown",
   "metadata": {},
   "source": [
    "start training"
   ]
  },
  {
   "cell_type": "code",
   "execution_count": null,
   "metadata": {},
   "outputs": [],
   "source": [
    "n_episodes = 200\n",
    "max_episode_len = 1000\n",
    "for i in range(1, n_episodes + 1):\n",
    "    obs = env_stack.reset()\n",
    "    reward = 0\n",
    "    done = False\n",
    "    R = 0  # return (sum of rewards)\n",
    "    t = 0  # time step\n",
    "    while not done and t < max_episode_len:\n",
    "        # Uncomment to watch the behaviour\n",
    "        # env.render()\n",
    "        action = agent_stack.act_and_train(obs, reward)\n",
    "        obs, reward, done, _ = env_stack.step(action)\n",
    "        R += reward\n",
    "        t += 1\n",
    "    if i % 10 == 0:\n",
    "        print('episode:', i,\n",
    "              'R:', R,\n",
    "              'statistics:', agent.get_statistics())\n",
    "        print(obs.reshape((5,M.len)))\n",
    "    agent_stack.stop_episode_and_train(obs, reward, done)\n",
    "print('Finished.')"
   ]
  },
  {
   "cell_type": "markdown",
   "metadata": {},
   "source": [
    "test run"
   ]
  },
  {
   "cell_type": "code",
   "execution_count": null,
   "metadata": {},
   "outputs": [],
   "source": [
    "for i in range(5):\n",
    "    obs = env_stack.reset()\n",
    "    done = False\n",
    "    R = 0\n",
    "    t = 0\n",
    "    while not done and t < 1000:\n",
    "        #env.render()\n",
    "        action = agent_stack.act(obs)\n",
    "        obs, r, done, _ = env_stack.step(action)\n",
    "        R += r\n",
    "        t += 1\n",
    "    print('test episode:', i, 'R:', R)\n",
    "    print('Final observation', obs.reshape((5,M.len)))\n",
    "    agent_stack.stop_episode()"
   ]
  },
  {
   "cell_type": "markdown",
   "metadata": {},
   "source": [
    "## Random walker"
   ]
  },
  {
   "cell_type": "markdown",
   "metadata": {},
   "source": [
    "We compare against a Random walker"
   ]
  },
  {
   "cell_type": "code",
   "execution_count": null,
   "metadata": {},
   "outputs": [],
   "source": [
    "for i in range(10):\n",
    "    obs = env_stack.reset()\n",
    "    done = False\n",
    "    R = 0\n",
    "    t = 0\n",
    "    while not done and t < 1000-1:\n",
    "        #env.render()\n",
    "        action = np.random.randint(stack_actions)\n",
    "        obs, r, done, _ = env_stack.step(action)\n",
    "        R += r\n",
    "        t += 1\n",
    "    print('Random walker, episode:', i, '. Total Reward:', R)\n",
    "    print('Final observation:')\n",
    "    print(obs.reshape((5,M.len)))"
   ]
  },
  {
   "cell_type": "markdown",
   "metadata": {},
   "source": [
    "## By hand"
   ]
  },
  {
   "cell_type": "code",
   "execution_count": null,
   "metadata": {},
   "outputs": [],
   "source": [
    "obs = env_stack.reset()\n",
    "done = False\n",
    "R = 0\n",
    "t = 0\n",
    "print(obs.reshape((5,M.len)))\n",
    "while not done and t < 10:\n",
    "    #env.render()\n",
    "    action = 5\n",
    "    obs, r, done, _ = env_stack.step(action)\n",
    "    R += r\n",
    "    print(r,R)\n",
    "    t += 1\n",
    "\n",
    "    print(obs.reshape((5,M.len)))"
   ]
  },
  {
   "cell_type": "code",
   "execution_count": null,
   "metadata": {},
   "outputs": [],
   "source": [
    "np.amin(obs.reshape((5,M.len)))"
   ]
  },
  {
   "cell_type": "code",
   "execution_count": null,
   "metadata": {},
   "outputs": [],
   "source": [
    "np.amax(obs.reshape((5,M.len)))"
   ]
  },
  {
   "cell_type": "code",
   "execution_count": null,
   "metadata": {},
   "outputs": [],
   "source": [
    "observation, reward, _, _ = env.step(5)\n",
    "print(reward)\n",
    "print(observation.reshape((5,M.len)))"
   ]
  },
  {
   "cell_type": "code",
   "execution_count": null,
   "metadata": {},
   "outputs": [],
   "source": [
    "np.amin(observation) < -1*5"
   ]
  },
  {
   "cell_type": "code",
   "execution_count": null,
   "metadata": {},
   "outputs": [],
   "source": [
    "np.amax(observation) > 5"
   ]
  },
  {
   "cell_type": "code",
   "execution_count": null,
   "metadata": {},
   "outputs": [],
   "source": [
    "print(env.V.reshape((5,M.len)))\n",
    "env._take_action(5)\n",
    "print(env.V.reshape((5,M.len)))\n",
    "print(np.amin(env.V) < -1*5, np.amax(env.V) > 5)\n",
    "print(env._get_reward())\n",
    "print(env._get_state().reshape((5,M.len)))"
   ]
  },
  {
   "cell_type": "code",
   "execution_count": null,
   "metadata": {},
   "outputs": [],
   "source": [
    "{'fermion': 1e6, 'doublet': 1e6, 'triplet': 1e4, 'stability': 2,\n",
    "     'index': 1e3, 'bianchi': 1e3, 'equivariant': 1e3, 'SUN': 2}"
   ]
  }
 ],
 "metadata": {
  "kernelspec": {
   "display_name": "Python 3",
   "language": "python",
   "name": "python3"
  },
  "language_info": {
   "codemirror_mode": {
    "name": "ipython",
    "version": 3
   },
   "file_extension": ".py",
   "mimetype": "text/x-python",
   "name": "python",
   "nbconvert_exporter": "python",
   "pygments_lexer": "ipython3",
   "version": "3.6.8"
  }
 },
 "nbformat": 4,
 "nbformat_minor": 2
}
